{
 "cells": [
  {
   "cell_type": "markdown",
   "id": "d15d8294-3328-4e07-ad16-8a03e9bbfdb9",
   "metadata": {},
   "source": [
    "# Instant Gratification\n",
    "\n",
    "## Your first Frontier LLM Project!\n",
    "\n",
    "Let's build a useful LLM solution - in a matter of minutes.\n",
    "\n",
    "By the end of this course, you will have built an autonomous Agentic AI solution with 7 agents that collaborate to solve a business problem. All in good time! We will start with something smaller...\n",
    "\n",
    "Our goal is to code a new kind of Web Browser. Give it a URL, and it will respond with a summary. The Reader's Digest of the internet!!\n",
    "\n",
    "Before starting, you should have completed the setup for [PC](../SETUP-PC.md) or [Mac](../SETUP-mac.md) and you hopefully launched this jupyter lab from within the project root directory, with your environment activated.\n",
    "\n",
    "## If you're new to Jupyter Lab\n",
    "\n",
    "Welcome to the wonderful world of Data Science experimentation! Once you've used Jupyter Lab, you'll wonder how you ever lived without it. Simply click in each \"cell\" with code in it, such as the cell immediately below this text, and hit Shift+Return to execute that cell. As you wish, you can add a cell with the + button in the toolbar, and print values of variables, or try out variations.  \n",
    "\n",
    "I've written a notebook called [Guide to Jupyter](Guide%20to%20Jupyter.ipynb) to help you get more familiar with Jupyter Labs, including adding Markdown comments, using `!` to run shell commands, and `tqdm` to show progress.\n",
    "\n",
    "## If you'd prefer to work in IDEs\n",
    "\n",
    "If you're more comfortable in IDEs like VSCode or Pycharm, they both work great with these lab notebooks too.  \n",
    "If you'd prefer to work in VSCode, [here](https://chatgpt.com/share/676f2e19-c228-8012-9911-6ca42f8ed766) are instructions from an AI friend on how to configure it for the course.\n",
    "\n",
    "## If you'd like to brush up your Python\n",
    "\n",
    "I've added a notebook called [Intermediate Python](Intermediate%20Python.ipynb) to get you up to speed. But you should give it a miss if you already have a good idea what this code does:    \n",
    "`yield from {book.get(\"author\") for book in books if book.get(\"author\")}`\n",
    "\n",
    "## I am here to help\n",
    "\n",
    "If you have any problems at all, please do reach out.  \n",
    "I'm available through the platform, or at ed@edwarddonner.com, or at https://www.linkedin.com/in/eddonner/ if you'd like to connect (and I love connecting!)\n",
    "\n",
    "## More troubleshooting\n",
    "\n",
    "Please see the [troubleshooting](troubleshooting.ipynb) notebook in this folder to diagnose and fix common problems. At the very end of it is a diagnostics script with some useful debug info.\n",
    "\n",
    "## If this is old hat!\n",
    "\n",
    "If you're already comfortable with today's material, please hang in there; you can move swiftly through the first few labs - we will get much more in depth as the weeks progress.\n",
    "\n",
    "<table style=\"margin: 0; text-align: left;\">\n",
    "    <tr>\n",
    "        <td style=\"width: 150px; height: 150px; vertical-align: middle;\">\n",
    "            <img src=\"../important.jpg\" width=\"150\" height=\"150\" style=\"display: block;\" />\n",
    "        </td>\n",
    "        <td>\n",
    "            <h2 style=\"color:#900;\">Please read - important note</h2>\n",
    "            <span style=\"color:#900;\">The way I collaborate with you may be different to other courses you've taken. I prefer not to type code while you watch. Rather, I execute Jupyter Labs, like this, and give you an intuition for what's going on. My suggestion is that you do this with me, either at the same time, or (perhaps better) right afterwards. Add print statements to understand what's going on, and then come up with your own variations. If you have a Github account, use this to showcase your variations. Not only is this essential practice, but it demonstrates your skills to others, including perhaps future clients or employers...</span>\n",
    "        </td>\n",
    "    </tr>\n",
    "</table>\n",
    "<table style=\"margin: 0; text-align: left;\">\n",
    "    <tr>\n",
    "        <td style=\"width: 150px; height: 150px; vertical-align: middle;\">\n",
    "            <img src=\"../business.jpg\" width=\"150\" height=\"150\" style=\"display: block;\" />\n",
    "        </td>\n",
    "        <td>\n",
    "            <h2 style=\"color:#181;\">Business value of these exercises</h2>\n",
    "            <span style=\"color:#181;\">A final thought. While I've designed these notebooks to be educational, I've also tried to make them enjoyable. We'll do fun things like have LLMs tell jokes and argue with each other. But fundamentally, my goal is to teach skills you can apply in business. I'll explain business implications as we go, and it's worth keeping this in mind: as you build experience with models and techniques, think of ways you could put this into action at work today. Please do contact me if you'd like to discuss more or if you have ideas to bounce off me.</span>\n",
    "        </td>\n",
    "    </tr>\n",
    "</table>"
   ]
  },
  {
   "cell_type": "code",
   "execution_count": 1,
   "id": "4e2a9393-7767-488e-a8bf-27c12dca35bd",
   "metadata": {},
   "outputs": [],
   "source": [
    "# imports\n",
    "\n",
    "import os\n",
    "import requests\n",
    "from dotenv import load_dotenv\n",
    "from bs4 import BeautifulSoup\n",
    "from IPython.display import Markdown, display\n",
    "from openai import OpenAI\n",
    "\n",
    "# If you get an error running this cell, then please head over to the troubleshooting notebook!"
   ]
  },
  {
   "cell_type": "markdown",
   "id": "6900b2a8-6384-4316-8aaa-5e519fca4254",
   "metadata": {},
   "source": [
    "# Connecting to OpenAI\n",
    "\n",
    "The next cell is where we load in the environment variables in your `.env` file and connect to OpenAI.\n",
    "\n",
    "## Troubleshooting if you have problems:\n",
    "\n",
    "Head over to the [troubleshooting](troubleshooting.ipynb) notebook in this folder for step by step code to identify the root cause and fix it!\n",
    "\n",
    "If you make a change, try restarting the \"Kernel\" (the python process sitting behind this notebook) by Kernel menu >> Restart Kernel and Clear Outputs of All Cells. Then try this notebook again, starting at the top.\n",
    "\n",
    "Or, contact me! Message me or email ed@edwarddonner.com and we will get this to work.\n",
    "\n",
    "Any concerns about API costs? See my notes in the README - costs should be minimal, and you can control it at every point. You can also use Ollama as a free alternative, which we discuss during Day 2."
   ]
  },
  {
   "cell_type": "code",
   "execution_count": 2,
   "id": "7b87cadb-d513-4303-baee-a37b6f938e4d",
   "metadata": {},
   "outputs": [
    {
     "name": "stdout",
     "output_type": "stream",
     "text": [
      "API key found and looks good so far!\n"
     ]
    }
   ],
   "source": [
    "# Load environment variables in a file called .env\n",
    "\n",
    "load_dotenv(override=True)\n",
    "api_key = os.getenv('OPENAI_API_KEY')\n",
    "\n",
    "# Check the key\n",
    "\n",
    "if not api_key:\n",
    "    print(\"No API key was found - please head over to the troubleshooting notebook in this folder to identify & fix!\")\n",
    "elif not api_key.startswith(\"sk-proj-\"):\n",
    "    print(\"An API key was found, but it doesn't start sk-proj-; please check you're using the right key - see troubleshooting notebook\")\n",
    "elif api_key.strip() != api_key:\n",
    "    print(\"An API key was found, but it looks like it might have space or tab characters at the start or end - please remove them - see troubleshooting notebook\")\n",
    "else:\n",
    "    print(\"API key found and looks good so far!\")\n"
   ]
  },
  {
   "cell_type": "code",
   "execution_count": 3,
   "id": "019974d9-f3ad-4a8a-b5f9-0a3719aea2d3",
   "metadata": {},
   "outputs": [],
   "source": [
    "openai = OpenAI()\n",
    "\n",
    "# If this doesn't work, try Kernel menu >> Restart Kernel and Clear Outputs Of All Cells, then run the cells from the top of this notebook down.\n",
    "# If it STILL doesn't work (horrors!) then please see the Troubleshooting notebook in this folder for full instructions"
   ]
  },
  {
   "cell_type": "markdown",
   "id": "442fc84b-0815-4f40-99ab-d9a5da6bda91",
   "metadata": {},
   "source": [
    "# Let's make a quick call to a Frontier model to get started, as a preview!"
   ]
  },
  {
   "cell_type": "code",
   "execution_count": 4,
   "id": "a58394bf-1e45-46af-9bfd-01e24da6f49a",
   "metadata": {},
   "outputs": [
    {
     "name": "stdout",
     "output_type": "stream",
     "text": [
      "Hello! Welcome! I’m glad you’re here. How can I assist you today?\n"
     ]
    }
   ],
   "source": [
    "# To give you a preview -- calling OpenAI with these messages is this easy. Any problems, head over to the Troubleshooting notebook.\n",
    "\n",
    "message = \"Hello, GPT! This is my first ever message to you! Hi!\"\n",
    "response = openai.chat.completions.create(model=\"gpt-4o-mini\", messages=[{\"role\":\"user\", \"content\":message}])\n",
    "print(response.choices[0].message.content)"
   ]
  },
  {
   "cell_type": "code",
   "execution_count": 16,
   "id": "37d8735b-11d5-40bc-a971-16547b95ea57",
   "metadata": {},
   "outputs": [
    {
     "data": {
      "text/plain": [
       "ChatCompletionMessage(content='Hello! Welcome! I’m glad you’re here. How can I assist you today?', refusal=None, role='assistant', audio=None, function_call=None, tool_calls=None)"
      ]
     },
     "execution_count": 16,
     "metadata": {},
     "output_type": "execute_result"
    }
   ],
   "source": [
    "response.choices[0].message"
   ]
  },
  {
   "cell_type": "markdown",
   "id": "2aa190e5-cb31-456a-96cc-db109919cd78",
   "metadata": {},
   "source": [
    "## OK onwards with our first project"
   ]
  },
  {
   "cell_type": "code",
   "execution_count": 17,
   "id": "c5e793b2-6775-426a-a139-4848291d0463",
   "metadata": {},
   "outputs": [],
   "source": [
    "# A class to represent a Webpage\n",
    "# If you're not familiar with Classes, check out the \"Intermediate Python\" notebook\n",
    "\n",
    "# Some websites need you to use proper headers when fetching them:\n",
    "headers = {\n",
    " \"User-Agent\": \"Mozilla/5.0 (Windows NT 10.0; Win64; x64) AppleWebKit/537.36 (KHTML, like Gecko) Chrome/117.0.0.0 Safari/537.36\"\n",
    "}\n",
    "\n",
    "class Website:\n",
    "\n",
    "    def __init__(self, url):\n",
    "        \"\"\"\n",
    "        Create this Website object from the given url using the BeautifulSoup library\n",
    "        \"\"\"\n",
    "        self.url = url\n",
    "        response = requests.get(url, headers=headers)\n",
    "        soup = BeautifulSoup(response.content, 'html.parser')\n",
    "        self.title = soup.title.string if soup.title else \"No title found\"\n",
    "        for irrelevant in soup.body([\"script\", \"style\", \"img\", \"input\"]):\n",
    "            irrelevant.decompose()\n",
    "        self.text = soup.body.get_text(separator=\"\\n\", strip=True)"
   ]
  },
  {
   "cell_type": "code",
   "execution_count": 20,
   "id": "2ef960cf-6dc2-4cda-afb3-b38be12f4c97",
   "metadata": {},
   "outputs": [
    {
     "name": "stdout",
     "output_type": "stream",
     "text": [
      "Home - Edward Donner\n",
      "Home\n",
      "Outsmart\n",
      "An arena that pits LLMs against each other in a battle of diplomacy and deviousness\n",
      "About\n",
      "Posts\n",
      "Well, hi there.\n",
      "I’m Ed. I like writing code and experimenting with LLMs, and hopefully you’re here because you do too. I also enjoy DJing (but I’m badly out of practice), amateur electronic music production (\n",
      "very\n",
      "amateur) and losing myself in\n",
      "Hacker News\n",
      ", nodding my head sagely to things I only half understand.\n",
      "I’m the co-founder and CTO of\n",
      "Nebula.io\n",
      ". We’re applying AI to a field where it can make a massive, positive impact: helping people discover their potential and pursue their reason for being. Recruiters use our product today to source, understand, engage and manage talent. I’m previously the founder and CEO of AI startup untapt,\n",
      "acquired in 2021\n",
      ".\n",
      "We work with groundbreaking, proprietary LLMs verticalized for talent, we’ve\n",
      "patented\n",
      "our matching model, and our award-winning platform has happy customers and tons of press coverage.\n",
      "Connect\n",
      "with me for more!\n",
      "December 21, 2024\n",
      "Welcome, SuperDataScientists!\n",
      "November 13, 2024\n",
      "Mastering AI and LLM Engineering – Resources\n",
      "October 16, 2024\n",
      "From Software Engineer to AI Data Scientist – resources\n",
      "August 6, 2024\n",
      "Outsmart LLM Arena – a battle of diplomacy and deviousness\n",
      "Navigation\n",
      "Home\n",
      "Outsmart\n",
      "An arena that pits LLMs against each other in a battle of diplomacy and deviousness\n",
      "About\n",
      "Posts\n",
      "Get in touch\n",
      "ed [at] edwarddonner [dot] com\n",
      "www.edwarddonner.com\n",
      "Follow me\n",
      "LinkedIn\n",
      "Twitter\n",
      "Facebook\n",
      "Subscribe to newsletter\n",
      "Type your email…\n",
      "Subscribe\n"
     ]
    }
   ],
   "source": [
    "# Let's try one out. Change the website and add print statements to follow along.\n",
    "\n",
    "ed = Website(\"https://edwarddonner.com\")\n",
    "print(ed.title)\n",
    "print(ed.text)"
   ]
  },
  {
   "cell_type": "code",
   "execution_count": null,
   "id": "02ee6835-d0ef-45c5-af3d-e9b7fc9f791d",
   "metadata": {},
   "outputs": [],
   "source": [
    "lu = Website(\"https://en.wikipedia.org/wiki/Lu_Laysreng\")\n",
    "print(lu.title)\n",
    "print(lu.text)"
   ]
  },
  {
   "cell_type": "markdown",
   "id": "6a478a0c-2c53-48ff-869c-4d08199931e1",
   "metadata": {},
   "source": [
    "## Types of prompts\n",
    "\n",
    "You may know this already - but if not, you will get very familiar with it!\n",
    "\n",
    "Models like GPT4o have been trained to receive instructions in a particular way.\n",
    "\n",
    "They expect to receive:\n",
    "\n",
    "**A system prompt** that tells them what task they are performing and what tone they should use\n",
    "\n",
    "**A user prompt** -- the conversation starter that they should reply to"
   ]
  },
  {
   "cell_type": "code",
   "execution_count": 22,
   "id": "abdb8417-c5dc-44bc-9bee-2e059d162699",
   "metadata": {},
   "outputs": [],
   "source": [
    "# Define our system prompt - you can experiment with this later, changing the last sentence to 'Respond in markdown in Spanish.\"\n",
    "\n",
    "system_prompt = \"You are an assistant that analyzes the contents of a website \\\n",
    "and provides a short summary, ignoring text that might be navigation related. \\\n",
    "Respond in markdown.\""
   ]
  },
  {
   "cell_type": "code",
   "execution_count": 23,
   "id": "f0275b1b-7cfe-4f9d-abfa-7650d378da0c",
   "metadata": {},
   "outputs": [],
   "source": [
    "# A function that writes a User Prompt that asks for summaries of websites:\n",
    "\n",
    "def user_prompt_for(website):\n",
    "    user_prompt = f\"You are looking at a website titled {website.title}\"\n",
    "    user_prompt += \"\\nThe contents of this website is as follows; \\\n",
    "please provide a short summary of this website in markdown. \\\n",
    "If it includes news or announcements, then summarize these too.\\n\\n\"\n",
    "    user_prompt += website.text\n",
    "    return user_prompt"
   ]
  },
  {
   "cell_type": "code",
   "execution_count": 24,
   "id": "26448ec4-5c00-4204-baec-7df91d11ff2e",
   "metadata": {},
   "outputs": [
    {
     "name": "stdout",
     "output_type": "stream",
     "text": [
      "You are looking at a website titled Home - Edward Donner\n",
      "The contents of this website is as follows; please provide a short summary of this website in markdown. If it includes news or announcements, then summarize these too.\n",
      "\n",
      "Home\n",
      "Outsmart\n",
      "An arena that pits LLMs against each other in a battle of diplomacy and deviousness\n",
      "About\n",
      "Posts\n",
      "Well, hi there.\n",
      "I’m Ed. I like writing code and experimenting with LLMs, and hopefully you’re here because you do too. I also enjoy DJing (but I’m badly out of practice), amateur electronic music production (\n",
      "very\n",
      "amateur) and losing myself in\n",
      "Hacker News\n",
      ", nodding my head sagely to things I only half understand.\n",
      "I’m the co-founder and CTO of\n",
      "Nebula.io\n",
      ". We’re applying AI to a field where it can make a massive, positive impact: helping people discover their potential and pursue their reason for being. Recruiters use our product today to source, understand, engage and manage talent. I’m previously the founder and CEO of AI startup untapt,\n",
      "acquired in 2021\n",
      ".\n",
      "We work with groundbreaking, proprietary LLMs verticalized for talent, we’ve\n",
      "patented\n",
      "our matching model, and our award-winning platform has happy customers and tons of press coverage.\n",
      "Connect\n",
      "with me for more!\n",
      "December 21, 2024\n",
      "Welcome, SuperDataScientists!\n",
      "November 13, 2024\n",
      "Mastering AI and LLM Engineering – Resources\n",
      "October 16, 2024\n",
      "From Software Engineer to AI Data Scientist – resources\n",
      "August 6, 2024\n",
      "Outsmart LLM Arena – a battle of diplomacy and deviousness\n",
      "Navigation\n",
      "Home\n",
      "Outsmart\n",
      "An arena that pits LLMs against each other in a battle of diplomacy and deviousness\n",
      "About\n",
      "Posts\n",
      "Get in touch\n",
      "ed [at] edwarddonner [dot] com\n",
      "www.edwarddonner.com\n",
      "Follow me\n",
      "LinkedIn\n",
      "Twitter\n",
      "Facebook\n",
      "Subscribe to newsletter\n",
      "Type your email…\n",
      "Subscribe\n"
     ]
    }
   ],
   "source": [
    "print(user_prompt_for(ed))"
   ]
  },
  {
   "cell_type": "code",
   "execution_count": null,
   "id": "7a8a6467-6349-4dff-9400-037bf0f124f1",
   "metadata": {},
   "outputs": [],
   "source": [
    "print(user_prompt_for(lu))"
   ]
  },
  {
   "cell_type": "markdown",
   "id": "ea211b5f-28e1-4a86-8e52-c0b7677cadcc",
   "metadata": {},
   "source": [
    "## Messages\n",
    "\n",
    "The API from OpenAI expects to receive messages in a particular structure.\n",
    "Many of the other APIs share this structure:\n",
    "\n",
    "```\n",
    "[\n",
    "    {\"role\": \"system\", \"content\": \"system message goes here\"},\n",
    "    {\"role\": \"user\", \"content\": \"user message goes here\"}\n",
    "]\n",
    "\n",
    "To give you a preview, the next 2 cells make a rather simple call - we won't stretch the might GPT (yet!)"
   ]
  },
  {
   "cell_type": "code",
   "execution_count": 26,
   "id": "f25dcd35-0cd0-4235-9f64-ac37ed9eaaa5",
   "metadata": {},
   "outputs": [],
   "source": [
    "messages = [\n",
    "    {\"role\": \"system\", \"content\": \"You are a snarky assistant\"},\n",
    "    {\"role\": \"user\", \"content\": \"What is 2 + 2?\"}\n",
    "]"
   ]
  },
  {
   "cell_type": "code",
   "execution_count": 27,
   "id": "21ed95c5-7001-47de-a36d-1d6673b403ce",
   "metadata": {},
   "outputs": [
    {
     "name": "stdout",
     "output_type": "stream",
     "text": [
      "Well, if we're sticking to basic arithmetic, 2 + 2 is 4. But if you’re looking for a philosophical debate, I can surely help you ponder the meaning of “2” in a digital age!\n"
     ]
    }
   ],
   "source": [
    "# To give you a preview -- calling OpenAI with system and user messages:\n",
    "\n",
    "response = openai.chat.completions.create(model=\"gpt-4o-mini\", messages=messages)\n",
    "print(response.choices[0].message.content)"
   ]
  },
  {
   "cell_type": "markdown",
   "id": "d06e8d78-ce4c-4b05-aa8e-17050c82bb47",
   "metadata": {},
   "source": [
    "## And now let's build useful messages for GPT-4o-mini, using a function"
   ]
  },
  {
   "cell_type": "code",
   "execution_count": 28,
   "id": "0134dfa4-8299-48b5-b444-f2a8c3403c88",
   "metadata": {},
   "outputs": [],
   "source": [
    "# See how this function creates exactly the format above\n",
    "\n",
    "def messages_for(website):\n",
    "    return [\n",
    "        {\"role\": \"system\", \"content\": system_prompt},\n",
    "        {\"role\": \"user\", \"content\": user_prompt_for(website)}\n",
    "    ]"
   ]
  },
  {
   "cell_type": "code",
   "execution_count": 29,
   "id": "36478464-39ee-485c-9f3f-6a4e458dbc9c",
   "metadata": {},
   "outputs": [
    {
     "data": {
      "text/plain": [
       "[{'role': 'system',\n",
       "  'content': 'You are an assistant that analyzes the contents of a website and provides a short summary, ignoring text that might be navigation related. Respond in markdown.'},\n",
       " {'role': 'user',\n",
       "  'content': 'You are looking at a website titled Home - Edward Donner\\nThe contents of this website is as follows; please provide a short summary of this website in markdown. If it includes news or announcements, then summarize these too.\\n\\nHome\\nOutsmart\\nAn arena that pits LLMs against each other in a battle of diplomacy and deviousness\\nAbout\\nPosts\\nWell, hi there.\\nI’m Ed. I like writing code and experimenting with LLMs, and hopefully you’re here because you do too. I also enjoy DJing (but I’m badly out of practice), amateur electronic music production (\\nvery\\namateur) and losing myself in\\nHacker News\\n, nodding my head sagely to things I only half understand.\\nI’m the co-founder and CTO of\\nNebula.io\\n. We’re applying AI to a field where it can make a massive, positive impact: helping people discover their potential and pursue their reason for being. Recruiters use our product today to source, understand, engage and manage talent. I’m previously the founder and CEO of AI startup untapt,\\nacquired in 2021\\n.\\nWe work with groundbreaking, proprietary LLMs verticalized for talent, we’ve\\npatented\\nour matching model, and our award-winning platform has happy customers and tons of press coverage.\\nConnect\\nwith me for more!\\nDecember 21, 2024\\nWelcome, SuperDataScientists!\\nNovember 13, 2024\\nMastering AI and LLM Engineering – Resources\\nOctober 16, 2024\\nFrom Software Engineer to AI Data Scientist – resources\\nAugust 6, 2024\\nOutsmart LLM Arena – a battle of diplomacy and deviousness\\nNavigation\\nHome\\nOutsmart\\nAn arena that pits LLMs against each other in a battle of diplomacy and deviousness\\nAbout\\nPosts\\nGet in touch\\ned [at] edwarddonner [dot] com\\nwww.edwarddonner.com\\nFollow me\\nLinkedIn\\nTwitter\\nFacebook\\nSubscribe to newsletter\\nType your email…\\nSubscribe'}]"
      ]
     },
     "execution_count": 29,
     "metadata": {},
     "output_type": "execute_result"
    }
   ],
   "source": [
    "# Try this out, and then try for a few more websites\n",
    "\n",
    "messages_for(ed)"
   ]
  },
  {
   "cell_type": "code",
   "execution_count": 30,
   "id": "666524b1-a653-41b6-9281-e14b0e309e03",
   "metadata": {},
   "outputs": [
    {
     "data": {
      "text/plain": [
       "[{'role': 'system',\n",
       "  'content': 'You are an assistant that analyzes the contents of a website and provides a short summary, ignoring text that might be navigation related. Respond in markdown.'},\n",
       " {'role': 'user',\n",
       "  'content': 'You are looking at a website titled Lu Laysreng - Wikipedia\\nThe contents of this website is as follows; please provide a short summary of this website in markdown. If it includes news or announcements, then summarize these too.\\n\\nJump to content\\nMain menu\\nMain menu\\nmove to sidebar\\nhide\\nNavigation\\nMain page\\nContents\\nCurrent events\\nRandom article\\nAbout Wikipedia\\nContact us\\nContribute\\nHelp\\nLearn to edit\\nCommunity portal\\nRecent changes\\nUpload file\\nSearch\\nSearch\\nAppearance\\nDonate\\nCreate account\\nLog in\\nPersonal tools\\nDonate\\nCreate account\\nLog in\\nPages for logged out editors\\nlearn more\\nContributions\\nTalk\\nContents\\nmove to sidebar\\nhide\\n(Top)\\n1\\nReferences\\nToggle the table of contents\\nLu Laysreng\\n1 language\\nTiếng Việt\\nEdit links\\nArticle\\nTalk\\nEnglish\\nRead\\nEdit\\nView history\\nTools\\nTools\\nmove to sidebar\\nhide\\nActions\\nRead\\nEdit\\nView history\\nGeneral\\nWhat links here\\nRelated changes\\nUpload file\\nSpecial pages\\nPermanent link\\nPage information\\nCite this page\\nGet shortened URL\\nDownload QR code\\nPrint/export\\nDownload as PDF\\nPrintable version\\nIn other projects\\nWikidata item\\nAppearance\\nmove to sidebar\\nhide\\nFrom Wikipedia, the free encyclopedia\\nCambodian politician\\nIn this\\nCambodian name\\n, the\\nsurname\\nis\\nLu\\n. In accordance with Cambodian custom, this person should be referred to by the\\ngiven name\\n,\\nLaysreng\\n.\\nLu Laysreng\\n(born 1938)\\n[\\n1\\n]\\none of\\nCambodia\\n\\'s Deputy Prime Minister as well as the country\\'s Minister of Rural Development.\\n[\\n2\\n]\\nHe belongs to\\nFuncinpec\\nand was elected to represent\\nKampong Speu Province\\nin the\\nNational Assembly of Cambodia\\nin 2003.\\n[\\n3\\n]\\nLu was born in\\nPhnom Penh\\n, Cambodia to Chinese immigrants from\\nJieyang\\n[\\n4\\n]\\nbut stayed in\\nSwatow\\nbetween the ages of six to fifteen for his primary and secondary education before returning to Cambodia.\\n[\\n5\\n]\\nLu pursued his university studies at\\nCalifornia State University, Long Beach\\n, also acquiring American citizenship before returning to Cambodia to serve in politics. After the 2003 elections, he was subsequently appointed as the Cambodian information minister, and is one of the key personalities instrumental in fostering the kingdom\\'s closer ties with China.\\n[\\n6\\n]\\nIn one interview, Lu mentioned that his Chinese name is \"杨来盛\", but that he was frequently addressed as \"呂来盛\", a transliteration of his Khmer name \"Lu Lay Sreng\". Lu is fluent in Khmer, Teochew and English.\\n[\\n7\\n]\\nReferences\\n[\\nedit\\n]\\n^\\n杨来盛个人资料大全-简历 图片 文章-潮汕人物辞条\\nArchived\\n2008-11-20 at the\\nWayback Machine\\n, 2008-7-12, 潮汕风情网整理\\n^\\n\"Ministry of Rural Development\"\\n. Archived from\\nthe original\\non 2009-01-07\\n. Retrieved\\n2008-07-26\\n.\\n^\\n\"Election results\"\\nArchived\\n2008-06-16 at the\\nWayback Machine\\n. Cambodia National Election Committee. Accessed June 18, 2008.\\n^\\n抓先進性教育 促僑聯事業發展\\n, 2005-3-30, 揭陽市僑聯\\n^\\n柬埔寨华人\\n^\\n柬埔寨华人为发展中柬友谊作出贡献\\n[\\npermanent dead link\\n\\u200d\\n]\\n^\\n柬埔寨華人系列（一）\\n, 2001-03-23, 蔡振裕\\nThis article about a Cambodian politician is a\\nstub\\n. You can help Wikipedia by\\nexpanding it\\n.\\nv\\nt\\ne\\nRetrieved from \"\\nhttps://en.wikipedia.org/w/index.php?title=Lu_Laysreng&oldid=1059557531\\n\"\\nCategories\\n:\\n1938 births\\nCambodian people of Chinese descent\\nMembers of the National Assembly (Cambodia)\\nCalifornia State University, Long Beach alumni\\nLiving people\\nFUNCINPEC politicians\\nAmerican people of Cambodian descent\\nGovernment ministers of Cambodia\\nAmerican people of Chinese descent\\nCambodian politician stubs\\nHidden categories:\\nWebarchive template wayback links\\nAll articles with dead external links\\nArticles with dead external links from January 2018\\nArticles with permanently dead external links\\nArticles with short description\\nShort description matches Wikidata\\nAll stub articles\\nThis page was last edited on 10 December 2021, at 04:38\\n(UTC)\\n.\\nText is available under the\\nCreative Commons Attribution-ShareAlike 4.0 License\\n;\\nadditional terms may apply. By using this site, you agree to the\\nTerms of Use\\nand\\nPrivacy Policy\\n. Wikipedia® is a registered trademark of the\\nWikimedia Foundation, Inc.\\n, a non-profit organization.\\nPrivacy policy\\nAbout Wikipedia\\nDisclaimers\\nContact Wikipedia\\nCode of Conduct\\nDevelopers\\nStatistics\\nCookie statement\\nMobile view\\nSearch\\nSearch\\nToggle the table of contents\\nLu Laysreng\\n1 language\\nAdd topic'}]"
      ]
     },
     "execution_count": 30,
     "metadata": {},
     "output_type": "execute_result"
    }
   ],
   "source": [
    "messages_for(lu)"
   ]
  },
  {
   "cell_type": "markdown",
   "id": "16f49d46-bf55-4c3e-928f-68fc0bf715b0",
   "metadata": {},
   "source": [
    "## Time to bring it together - the API for OpenAI is very simple!"
   ]
  },
  {
   "cell_type": "code",
   "execution_count": 31,
   "id": "905b9919-aba7-45b5-ae65-81b3d1d78e34",
   "metadata": {},
   "outputs": [],
   "source": [
    "# And now: call the OpenAI API. You will get very familiar with this!\n",
    "\n",
    "def summarize(url):\n",
    "    website = Website(url)\n",
    "    response = openai.chat.completions.create(\n",
    "        model = \"gpt-4o-mini\",\n",
    "        messages = messages_for(website)\n",
    "    )\n",
    "    return response.choices[0].message.content"
   ]
  },
  {
   "cell_type": "code",
   "execution_count": 32,
   "id": "05e38d41-dfa4-4b20-9c96-c46ea75d9fb5",
   "metadata": {},
   "outputs": [
    {
     "data": {
      "text/plain": [
       "'# Summary of Edward Donner\\'s Website\\n\\nEdward Donner\\'s website primarily showcases his interest in coding, large language models (LLMs), and artificial intelligence (AI). He is the co-founder and CTO of Nebula.io, a platform that leverages AI to help individuals discover their potential and enhance talent recruitment processes. The site reflects his background in tech, including his previous role as the founder and CEO of the AI startup untapt, which was acquired in 2021.\\n\\n## Key Features:\\n- **Outsmart**: An arena designed for LLMs to compete against each other in strategies involving diplomacy and cunning.\\n- **Personal Interests**: Ed expresses personal hobbies such as DJing, amateur electronic music production, and engagement with tech communities like Hacker News.\\n\\n## Blog Posts and Announcements:\\n- **December 21, 2024**: Welcoming a community of data scientists with the title \"Welcome, SuperDataScientists!\"\\n- **November 13, 2024**: A resource guide titled \"Mastering AI and LLM Engineering.\"\\n- **October 16, 2024**: A resource post titled \"From Software Engineer to AI Data Scientist.\"\\n- **August 6, 2024**: Announcement related to the \"Outsmart LLM Arena.\"\\n\\nOverall, the website is a hub for Ed\\'s interests in LLMs and AI, alongside his professional achievements and contributions in these fields.'"
      ]
     },
     "execution_count": 32,
     "metadata": {},
     "output_type": "execute_result"
    }
   ],
   "source": [
    "summarize(\"https://edwarddonner.com\")"
   ]
  },
  {
   "cell_type": "code",
   "execution_count": 33,
   "id": "3d926d59-450e-4609-92ba-2d6f244f1342",
   "metadata": {},
   "outputs": [],
   "source": [
    "# A function to display this nicely in the Jupyter output, using markdown\n",
    "\n",
    "def display_summary(url):\n",
    "    summary = summarize(url)\n",
    "    display(Markdown(summary))"
   ]
  },
  {
   "cell_type": "code",
   "execution_count": 35,
   "id": "3018853a-445f-41ff-9560-d925d1774b2f",
   "metadata": {},
   "outputs": [
    {
     "data": {
      "text/markdown": [
       "# Summary of Lu Laysreng - Wikipedia\n",
       "\n",
       "Lu Laysreng (born 1938) is a prominent Cambodian politician, serving as one of Cambodia's Deputy Prime Ministers and the Minister of Rural Development. A member of the Funcinpec party, he was elected to the National Assembly representing Kampong Speu Province in 2003. \n",
       "\n",
       "Born in Phnom Penh to Chinese immigrants, Lu spent part of his childhood in Swatow before pursuing higher education in the United States, specifically at California State University, Long Beach, where he also obtained American citizenship. After returning to Cambodia, he played a significant role in enhancing Cambodia's relations with China and was appointed as the information minister following the 2003 elections. \n",
       "\n",
       "Fluent in Khmer, Teochew, and English, Lu is known by his Chinese name \"杨来盛\" and his Khmer name, which is a transliteration.\n",
       "\n",
       "The article is a stub, indicating that it is a brief entry that may be expanded with more information."
      ],
      "text/plain": [
       "<IPython.core.display.Markdown object>"
      ]
     },
     "metadata": {},
     "output_type": "display_data"
    }
   ],
   "source": [
    "display_summary(\"https://en.wikipedia.org/wiki/Lu_Laysreng\")"
   ]
  },
  {
   "cell_type": "code",
   "execution_count": 36,
   "id": "41c858aa-773a-45e2-80cb-12746532f71d",
   "metadata": {},
   "outputs": [
    {
     "data": {
      "text/markdown": [
       "# Summary of Edward Donner's Website\n",
       "\n",
       "Edward Donner's website features his interests and professional background, particularly focusing on coding and experimenting with Large Language Models (LLMs). He is the co-founder and CTO of **Nebula.io**, a company that leverages AI to enhance talent discovery and management, having previously founded the AI startup untapt, which was acquired in 2021. \n",
       "\n",
       "## Recent Posts and Announcements\n",
       "- **December 21, 2024**: Welcoming \"SuperDataScientists!\"\n",
       "- **November 13, 2024**: Sharing resources for \"Mastering AI and LLM Engineering.\"\n",
       "- **October 16, 2024**: Providing resources on transitioning from Software Engineer to AI Data Scientist.\n",
       "- **August 6, 2024**: Introduction to the \"Outsmart LLM Arena,\" which involves competitive scenarios for LLMs focused on diplomacy and strategy. \n",
       "\n",
       "Overall, the website reflects Edward's passion for AI, technology, and his ongoing engagement in the field with insightful resources for fellow enthusiasts."
      ],
      "text/plain": [
       "<IPython.core.display.Markdown object>"
      ]
     },
     "metadata": {},
     "output_type": "display_data"
    }
   ],
   "source": [
    "display_summary(\"https://edwarddonner.com\")"
   ]
  },
  {
   "cell_type": "markdown",
   "id": "b3bcf6f4-adce-45e9-97ad-d9a5d7a3a624",
   "metadata": {},
   "source": [
    "# Let's try more websites\n",
    "\n",
    "Note that this will only work on websites that can be scraped using this simplistic approach.\n",
    "\n",
    "Websites that are rendered with Javascript, like React apps, won't show up. See the community-contributions folder for a Selenium implementation that gets around this. You'll need to read up on installing Selenium (ask ChatGPT!)\n",
    "\n",
    "Also Websites protected with CloudFront (and similar) may give 403 errors - many thanks Andy J for pointing this out.\n",
    "\n",
    "But many websites will work just fine!"
   ]
  },
  {
   "cell_type": "code",
   "execution_count": 37,
   "id": "45d83403-a24c-44b5-84ac-961449b4008f",
   "metadata": {},
   "outputs": [
    {
     "data": {
      "text/markdown": [
       "# Summary of CNN Website\n",
       "\n",
       "CNN is a leading news platform that provides coverage on a wide range of topics, including:\n",
       "\n",
       "- **US News**: Current events, politics, crime, and justice in the United States.\n",
       "- **World News**: Global affairs, including major regions like Europe, Asia, Africa, and the Middle East.\n",
       "- **Politics**: In-depth coverage of governmental issues, elections, and political analysis.\n",
       "- **Business**: Updates on economy, markets, and major corporate news.\n",
       "- **Health**: Insights into medical advancements, health tips, and wellness news.\n",
       "- **Entertainment**: Coverage of movies, television, celebrity news, and cultural events.\n",
       "- **Science and Climate**: Articles on scientific discoveries, environmental issues, and climate change.\n",
       "- **Sports**: Updates on various sports disciplines, including NFL, NBA, and international games.\n",
       "\n",
       "### Recent News Highlights:\n",
       "- **Ukraine-Russia War**: Ongoing coverage and analysis of the conflict.\n",
       "- **Israel-Hamas War**: Reports on the situation, including human interest stories like the emotional reunion of hostages with their families.\n",
       "- **Trump Administration Developments**: News on executive actions, including immigration policies and cabinet confirmations.\n",
       "\n",
       "CNN also offers video content, podcasts, and interactive segments related to trending stories and significant events, like presidential inaugurations.\n",
       "\n",
       "Overall, CNN aims to keep its audience informed with up-to-date news and analysis on crucial domestic and international issues."
      ],
      "text/plain": [
       "<IPython.core.display.Markdown object>"
      ]
     },
     "metadata": {},
     "output_type": "display_data"
    }
   ],
   "source": [
    "display_summary(\"https://cnn.com\")"
   ]
  },
  {
   "cell_type": "code",
   "execution_count": 38,
   "id": "75e9fd40-b354-4341-991e-863ef2e59db7",
   "metadata": {},
   "outputs": [
    {
     "data": {
      "text/markdown": [
       "# Summary of Anthropic Website\n",
       "\n",
       "Anthropic is an AI safety and research company based in San Francisco, focused on creating reliable and beneficial AI systems. Their latest AI model, **Claude 3.5 Sonnet**, is now available for interaction, along with a new offering called **Claude 3.5 Haiku**, which was announced on October 22, 2024.\n",
       "\n",
       "## Key Highlights\n",
       "\n",
       "- **Claude Models**: Anthropic offers various Claude models, including the latest 3.5 Sonnet and 3.5 Haiku, designed for advanced AI interactions.\n",
       "- **AI Safety Research**: The company emphasizes AI safety and responsible development practices, with ongoing research in the field.\n",
       "- **Enterprise Solutions**: Anthropic provides AI solutions tailored for enterprise applications.\n",
       "\n",
       "## Recent Announcements\n",
       "\n",
       "- **Oct 22, 2024**: Introduction of new models, Claude 3.5 Sonnet and Claude 3.5 Haiku.\n",
       "- **Sep 4, 2024**: Launch of Claude for Enterprise, aimed at business applications.\n",
       "- **Research Initiative**: The company published insights on \"Constitutional AI\" focusing on ensuring harmlessness through AI feedback (Dec 15, 2022).\n",
       "- A discussion on \"Core Views on AI Safety\" was released on March 8, 2023, detailing their perspectives on AI development.\n",
       "\n",
       "Through their products and research, Anthropic prioritizes safety in developing AI technologies."
      ],
      "text/plain": [
       "<IPython.core.display.Markdown object>"
      ]
     },
     "metadata": {},
     "output_type": "display_data"
    }
   ],
   "source": [
    "display_summary(\"https://anthropic.com\")"
   ]
  },
  {
   "cell_type": "code",
   "execution_count": 40,
   "id": "ff93a8cc-dc90-4f5f-a8b1-368ff6ce9fec",
   "metadata": {},
   "outputs": [
    {
     "data": {
      "text/markdown": [
       "# Ramp Website Summary\n",
       "\n",
       "Ramp offers a comprehensive spend management solution designed to streamline finance operations for businesses. The platform includes features such as corporate cards, accounts payable automation, and smart expense management, aimed at reducing manual processes and improving efficiency.\n",
       "\n",
       "## Key Features:\n",
       "- **Corporate Cards:** Automatically matches receipts to transactions and learns from spending patterns.\n",
       "- **Expense Management:** Simplifies the submission and approval process for expenses.\n",
       "- **Accounts Payable:** Automated bill payment processes to eliminate repetitive tasks.\n",
       "- **Procurement:** Streamlined intake-to-pay process for faster operations.\n",
       "- **Travel Management:** Corporately managed travel booking that adheres to established policies.\n",
       "- **Accounting Automation:** Integrates seamlessly with existing systems for faster book closing.\n",
       "\n",
       "## Customer Impact:\n",
       "Ramp has saved over 10 million hours for more than 30,000 customers, with many testimonials citing significant time savings and improved financial oversight.\n",
       "\n",
       "## Recognition:\n",
       "Ramp has been recognized in various lists for its innovative approach to spend management, including:\n",
       "- **Forbes Cloud 100 2024**\n",
       "- **CNBC Disruptor 50 2024**\n",
       "- **G2 Best Software List 2024**\n",
       "\n",
       "## Call to Action:\n",
       "Interested businesses can sign up for a free demo to explore how Ramp can enhance their financial operations.\n",
       "\n",
       "For more information, businesses are encouraged to get started for free through their website."
      ],
      "text/plain": [
       "<IPython.core.display.Markdown object>"
      ]
     },
     "metadata": {},
     "output_type": "display_data"
    }
   ],
   "source": [
    "display_summary(\"https://ramp.com/\")"
   ]
  },
  {
   "cell_type": "markdown",
   "id": "c951be1a-7f1b-448f-af1f-845978e47e2c",
   "metadata": {},
   "source": [
    "<table style=\"margin: 0; text-align: left;\">\n",
    "    <tr>\n",
    "        <td style=\"width: 150px; height: 150px; vertical-align: middle;\">\n",
    "            <img src=\"../business.jpg\" width=\"150\" height=\"150\" style=\"display: block;\" />\n",
    "        </td>\n",
    "        <td>\n",
    "            <h2 style=\"color:#181;\">Business applications</h2>\n",
    "            <span style=\"color:#181;\">In this exercise, you experienced calling the Cloud API of a Frontier Model (a leading model at the frontier of AI) for the first time. We will be using APIs like OpenAI at many stages in the course, in addition to building our own LLMs.\n",
    "\n",
    "More specifically, we've applied this to Summarization - a classic Gen AI use case to make a summary. This can be applied to any business vertical - summarizing the news, summarizing financial performance, summarizing a resume in a cover letter - the applications are limitless. Consider how you could apply Summarization in your business, and try prototyping a solution.</span>\n",
    "        </td>\n",
    "    </tr>\n",
    "</table>\n",
    "\n",
    "<table style=\"margin: 0; text-align: left;\">\n",
    "    <tr>\n",
    "        <td style=\"width: 150px; height: 150px; vertical-align: middle;\">\n",
    "            <img src=\"../important.jpg\" width=\"150\" height=\"150\" style=\"display: block;\" />\n",
    "        </td>\n",
    "        <td>\n",
    "            <h2 style=\"color:#900;\">Before you continue - now try yourself</h2>\n",
    "            <span style=\"color:#900;\">Use the cell below to make your own simple commercial example. Stick with the summarization use case for now. Here's an idea: write something that will take the contents of an email, and will suggest an appropriate short subject line for the email. That's the kind of feature that might be built into a commercial email tool.</span>\n",
    "        </td>\n",
    "    </tr>\n",
    "</table>"
   ]
  },
  {
   "cell_type": "code",
   "execution_count": 41,
   "id": "00743dac-0e70-45b7-879a-d7293a6f68a6",
   "metadata": {},
   "outputs": [
    {
     "name": "stdout",
     "output_type": "stream",
     "text": [
      "\"Unlock the Adventure of a Lifetime: Space Vacations for Your Family!\"\n"
     ]
    }
   ],
   "source": [
    "# Step 1: Create your prompts\n",
    "system_prompt = \"You are an assistant that analyzes emails and creates a subject line that makes sense based on the context of the email. \\\n",
    "                The emails are cold sales email to generated leads and should catch the eye of the reader so they are inclined to open it up. \\\n",
    "                For context, my company is a space vacation business (which may or may not help with generating the subject). \\\n",
    "                Respond with just the subject line, nothing else. The user will provide the email body.\"\n",
    "user_prompt = \"\"\"\n",
    "    Hi Jane,\n",
    "    \n",
    "    I heard you are interested in traveling to space for your family vacation next summer! At \\\n",
    "    Space Explorer's Inc. we can provide a comprehensive tour of the upper atmosphere of Earth at \\\n",
    "    a fraction of the cost of other tour companies! If you have the time, I'd love to chat to provide \\\n",
    "    you with more information.\n",
    "    \n",
    "    Best,\n",
    "    Matt\n",
    "\"\"\"\n",
    "\n",
    "# Step 2: Make the messages list\n",
    "\n",
    "messages = [{\"role\": \"system\", \"content\": system_prompt}, \n",
    "           {\"role\": \"user\", \"content\": user_prompt} ] # fill this in\n",
    "\n",
    "# Step 3: Call OpenAI\n",
    "response = openai.chat.completions.create(\n",
    "    model = \"gpt-4o-mini\",\n",
    "    messages = messages\n",
    ")\n",
    "\n",
    "# Step 4: print the result\n",
    "\n",
    "print(response.choices[0].message.content)"
   ]
  },
  {
   "cell_type": "markdown",
   "id": "36ed9f14-b349-40e9-a42c-b367e77f8bda",
   "metadata": {},
   "source": [
    "## An extra exercise for those who enjoy web scraping\n",
    "\n",
    "You may notice that if you try `display_summary(\"https://openai.com\")` - it doesn't work! That's because OpenAI has a fancy website that uses Javascript. There are many ways around this that some of you might be familiar with. For example, Selenium is a hugely popular framework that runs a browser behind the scenes, renders the page, and allows you to query it. If you have experience with Selenium, Playwright or similar, then feel free to improve the Website class to use them. In the community-contributions folder, you'll find an example Selenium solution from a student (thank you!)"
   ]
  },
  {
   "cell_type": "code",
   "execution_count": null,
   "id": "55cc7bae-4430-4fe7-83db-5edb6dfaa08d",
   "metadata": {},
   "outputs": [],
   "source": []
  },
  {
   "cell_type": "code",
   "execution_count": null,
   "id": "a31fb305-b9f6-4890-86a6-d34dd5cdb593",
   "metadata": {},
   "outputs": [],
   "source": []
  },
  {
   "cell_type": "code",
   "execution_count": null,
   "id": "a09740c4-fe22-4ced-b289-7c4556fec55b",
   "metadata": {},
   "outputs": [],
   "source": []
  },
  {
   "cell_type": "markdown",
   "id": "eeab24dc-5f90-4570-b542-b0585aca3eb6",
   "metadata": {},
   "source": [
    "# Sharing your code\n",
    "\n",
    "I'd love it if you share your code afterwards so I can share it with others! You'll notice that some students have already made changes (including a Selenium implementation) which you will find in the community-contributions folder. If you'd like add your changes to that folder, submit a Pull Request with your new versions in that folder and I'll merge your changes.\n",
    "\n",
    "If you're not an expert with git (and I am not!) then GPT has given some nice instructions on how to submit a Pull Request. It's a bit of an involved process, but once you've done it once it's pretty clear. As a pro-tip: it's best if you clear the outputs of your Jupyter notebooks (Edit >> Clean outputs of all cells, and then Save) for clean notebooks.\n",
    "\n",
    "Here are good instructions courtesy of an AI friend:  \n",
    "https://chatgpt.com/share/677a9cb5-c64c-8012-99e0-e06e88afd293"
   ]
  }
 ],
 "metadata": {
  "kernelspec": {
   "display_name": "Python 3 (ipykernel)",
   "language": "python",
   "name": "python3"
  },
  "language_info": {
   "codemirror_mode": {
    "name": "ipython",
    "version": 3
   },
   "file_extension": ".py",
   "mimetype": "text/x-python",
   "name": "python",
   "nbconvert_exporter": "python",
   "pygments_lexer": "ipython3",
   "version": "3.11.11"
  }
 },
 "nbformat": 4,
 "nbformat_minor": 5
}
