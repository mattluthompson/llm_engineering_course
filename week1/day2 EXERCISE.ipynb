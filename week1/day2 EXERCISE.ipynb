{
 "cells": [
  {
   "cell_type": "markdown",
   "id": "d15d8294-3328-4e07-ad16-8a03e9bbfdb9",
   "metadata": {},
   "source": [
    "# Welcome to your first assignment!\n",
    "\n",
    "Instructions are below. Please give this a try, and look in the solutions folder if you get stuck (or feel free to ask me!)"
   ]
  },
  {
   "cell_type": "markdown",
   "id": "ada885d9-4d42-4d9b-97f0-74fbbbfe93a9",
   "metadata": {},
   "source": [
    "<table style=\"margin: 0; text-align: left;\">\n",
    "    <tr>\n",
    "        <td style=\"width: 150px; height: 150px; vertical-align: middle;\">\n",
    "            <img src=\"../resources.jpg\" width=\"150\" height=\"150\" style=\"display: block;\" />\n",
    "        </td>\n",
    "        <td>\n",
    "            <h2 style=\"color:#f71;\">Just before we get to the assignment --</h2>\n",
    "            <span style=\"color:#f71;\">I thought I'd take a second to point you at this page of useful resources for the course. This includes links to all the slides.<br/>\n",
    "            <a href=\"https://edwarddonner.com/2024/11/13/llm-engineering-resources/\">https://edwarddonner.com/2024/11/13/llm-engineering-resources/</a><br/>\n",
    "            Please keep this bookmarked, and I'll continue to add more useful links there over time.\n",
    "            </span>\n",
    "        </td>\n",
    "    </tr>\n",
    "</table>"
   ]
  },
  {
   "cell_type": "markdown",
   "id": "6e9fa1fc-eac5-4d1d-9be4-541b3f2b3458",
   "metadata": {},
   "source": [
    "# HOMEWORK EXERCISE ASSIGNMENT\n",
    "\n",
    "Upgrade the day 1 project to summarize a webpage to use an Open Source model running locally via Ollama rather than OpenAI\n",
    "\n",
    "You'll be able to use this technique for all subsequent projects if you'd prefer not to use paid APIs.\n",
    "\n",
    "**Benefits:**\n",
    "1. No API charges - open-source\n",
    "2. Data doesn't leave your box\n",
    "\n",
    "**Disadvantages:**\n",
    "1. Significantly less power than Frontier Model\n",
    "\n",
    "## Recap on installation of Ollama\n",
    "\n",
    "Simply visit [ollama.com](https://ollama.com) and install!\n",
    "\n",
    "Once complete, the ollama server should already be running locally.  \n",
    "If you visit:  \n",
    "[http://localhost:11434/](http://localhost:11434/)\n",
    "\n",
    "You should see the message `Ollama is running`.  \n",
    "\n",
    "If not, bring up a new Terminal (Mac) or Powershell (Windows) and enter `ollama serve`  \n",
    "And in another Terminal (Mac) or Powershell (Windows), enter `ollama pull llama3.2`  \n",
    "Then try [http://localhost:11434/](http://localhost:11434/) again.\n",
    "\n",
    "If Ollama is slow on your machine, try using `llama3.2:1b` as an alternative. Run `ollama pull llama3.2:1b` from a Terminal or Powershell, and change the code below from `MODEL = \"llama3.2\"` to `MODEL = \"llama3.2:1b\"`"
   ]
  },
  {
   "cell_type": "code",
   "execution_count": 1,
   "id": "4e2a9393-7767-488e-a8bf-27c12dca35bd",
   "metadata": {},
   "outputs": [],
   "source": [
    "# imports\n",
    "\n",
    "import requests\n",
    "from bs4 import BeautifulSoup\n",
    "from IPython.display import Markdown, display"
   ]
  },
  {
   "cell_type": "code",
   "execution_count": 2,
   "id": "29ddd15d-a3c5-4f4e-a678-873f56162724",
   "metadata": {},
   "outputs": [],
   "source": [
    "# Constants\n",
    "\n",
    "OLLAMA_API = \"http://localhost:11434/api/chat\"\n",
    "HEADERS = {\"Content-Type\": \"application/json\"}\n",
    "MODEL = \"llama3.2\""
   ]
  },
  {
   "cell_type": "code",
   "execution_count": 3,
   "id": "dac0a679-599c-441f-9bf2-ddc73d35b940",
   "metadata": {},
   "outputs": [],
   "source": [
    "# Create a messages list using the same format that we used for OpenAI\n",
    "\n",
    "messages = [\n",
    "    {\"role\": \"user\", \"content\": \"Describe some of the business applications of Generative AI\"}\n",
    "]"
   ]
  },
  {
   "cell_type": "code",
   "execution_count": 4,
   "id": "7bb9c624-14f0-4945-a719-8ddb64f66f47",
   "metadata": {},
   "outputs": [],
   "source": [
    "payload = {\n",
    "        \"model\": MODEL,\n",
    "        \"messages\": messages,\n",
    "        \"stream\": False\n",
    "    }"
   ]
  },
  {
   "cell_type": "code",
   "execution_count": null,
   "id": "479ff514-e8bd-4985-a572-2ea28bb4fa40",
   "metadata": {},
   "outputs": [],
   "source": [
    "# Let's just make sure the model is loaded\n",
    "\n",
    "!ollama pull llama3.2"
   ]
  },
  {
   "cell_type": "code",
   "execution_count": 5,
   "id": "42b9f644-522d-4e05-a691-56e7658c0ea9",
   "metadata": {},
   "outputs": [
    {
     "name": "stdout",
     "output_type": "stream",
     "text": [
      "Generative AI has numerous business applications across various industries. Here are some examples:\n",
      "\n",
      "1. **Content Generation**: Generative AI can be used to generate high-quality content such as articles, blog posts, social media posts, and even entire books. This can help businesses save time and money on content creation.\n",
      "2. **Product Design and Development**: Generative AI can aid in product design by generating 3D models, prototypes, and product designs. It can also be used to develop new products or improve existing ones.\n",
      "3. **Image and Video Generation**: Generative AI can generate high-quality images and videos that can be used for advertising, marketing, and other purposes.\n",
      "4. **Chatbots and Virtual Assistants**: Generative AI can be used to create chatbots and virtual assistants that can engage with customers and provide personalized support.\n",
      "5. **Personalization**: Generative AI can help businesses personalize their products and services by generating customized content, offers, and recommendations based on individual customer behavior.\n",
      "6. **Predictive Maintenance**: Generative AI can analyze data from sensors and other sources to predict equipment failures and perform predictive maintenance, reducing downtime and increasing efficiency.\n",
      "7. **Marketing Automation**: Generative AI can be used to automate marketing processes such as lead generation, email marketing, and social media advertising.\n",
      "8. **Customer Service**: Generative AI can help businesses provide better customer service by generating personalized responses to customer inquiries and providing support through chatbots and virtual assistants.\n",
      "9. **Research and Development**: Generative AI can aid in research and development by generating new ideas, predicting outcomes, and identifying potential applications for new technologies.\n",
      "10. **Finance and Risk Management**: Generative AI can be used to analyze financial data, predict market trends, and identify potential risks, helping businesses make informed investment decisions.\n",
      "\n",
      "Some specific examples of businesses that are using generative AI include:\n",
      "\n",
      "* **Amazon**: Using generative AI to generate product recommendations and personalized content for customers.\n",
      "* **IBM**: Using generative AI to develop new products and services, such as a chatbot that can engage with customers and provide support.\n",
      "* **Netflix**: Using generative AI to create personalized content recommendations for subscribers.\n",
      "* **Microsoft**: Using generative AI to generate high-quality images and videos for its advertising campaigns.\n",
      "\n",
      "These are just a few examples of the many ways in which businesses are using generative AI to gain a competitive advantage.\n"
     ]
    }
   ],
   "source": [
    "# If this doesn't work for any reason, try the 2 versions in the following cells\n",
    "# And double check the instructions in the 'Recap on installation of Ollama' at the top of this lab\n",
    "# And if none of that works - contact me!\n",
    "\n",
    "response = requests.post(OLLAMA_API, json=payload, headers=HEADERS)\n",
    "print(response.json()['message']['content'])"
   ]
  },
  {
   "cell_type": "markdown",
   "id": "6a021f13-d6a1-4b96-8e18-4eae49d876fe",
   "metadata": {},
   "source": [
    "# Introducing the ollama package\n",
    "\n",
    "And now we'll do the same thing, but using the elegant ollama python package instead of a direct HTTP call.\n",
    "\n",
    "Under the hood, it's making the same call as above to the ollama server running at localhost:11434"
   ]
  },
  {
   "cell_type": "code",
   "execution_count": 6,
   "id": "7745b9c4-57dc-4867-9180-61fa5db55eb8",
   "metadata": {},
   "outputs": [
    {
     "name": "stdout",
     "output_type": "stream",
     "text": [
      "Generative AI has numerous business applications across various industries, including:\n",
      "\n",
      "1. **Content Creation**: Generate high-quality content such as images, videos, music, and text using models like DALL-E, Midjourney, or Artbreeder. This can be used for social media management, advertising, and entertainment.\n",
      "2. **Marketing Automation**: Use generative AI to personalize marketing messages, product recommendations, and customer interactions, increasing engagement and conversion rates.\n",
      "3. **Product Design**: Employ generative design tools like Autodesk Dreambook, Figma, or Prisma to create new product designs, patterns, and textures, reducing the need for manual sketches and prototypes.\n",
      "4. **Customer Service Chatbots**: Develop chatbots that use generative AI to respond to customer inquiries, providing personalized support and resolving issues more efficiently.\n",
      "5. **Language Translation**: Use generative AI-powered translation tools like Google Translate or Microsoft Translator to improve language translation accuracy and efficiency.\n",
      "6. **Financial Analysis**: Apply generative AI to financial data analysis, predicting market trends, identifying patterns, and generating investment recommendations.\n",
      "7. **Healthcare**: Employ generative AI in medical imaging, diagnostics, and personalized medicine, enabling doctors to analyze complex patient data and develop targeted treatment plans.\n",
      "8. **Education**: Develop adaptive learning platforms that use generative AI to personalize education content, assessments, and feedback for students.\n",
      "9. **Security and Threat Detection**: Use generative AI-powered security tools to detect and respond to cyber threats, identifying patterns in network traffic and predicting potential vulnerabilities.\n",
      "10. **Creative Collaboration**: Enable human creatives to collaborate with generative AI models, leveraging their strengths in speed, scalability, and consistency to produce innovative content and designs.\n",
      "\n",
      "Innovative applications of Generative AI include:\n",
      "\n",
      "1. **Virtual Product Development**: Use generative AI to design and prototype new products, reducing the time and cost associated with traditional product development.\n",
      "2. **Real-time Content Generation**: Employ generative AI to generate real-time content for events, such as news broadcasts, sports analysis, or live commentary.\n",
      "3. **Predictive Maintenance**: Apply generative AI to predictive maintenance in industries like manufacturing, healthcare, and energy, predicting equipment failures and scheduling maintenance.\n",
      "4. **Digital Twinning**: Use generative AI to create digital replicas of physical assets, enabling real-time monitoring, simulation, and optimization.\n",
      "\n",
      "As Generative AI continues to evolve, we can expect even more innovative applications across various industries, driving business growth, efficiency, and competitiveness.\n"
     ]
    }
   ],
   "source": [
    "import ollama\n",
    "\n",
    "response = ollama.chat(model=MODEL, messages=messages)\n",
    "print(response['message']['content'])"
   ]
  },
  {
   "cell_type": "markdown",
   "id": "a4704e10-f5fb-4c15-a935-f046c06fb13d",
   "metadata": {},
   "source": [
    "## Alternative approach - using OpenAI python library to connect to Ollama"
   ]
  },
  {
   "cell_type": "code",
   "execution_count": 7,
   "id": "23057e00-b6fc-4678-93a9-6b31cb704bff",
   "metadata": {},
   "outputs": [
    {
     "name": "stdout",
     "output_type": "stream",
     "text": [
      "Generative AI, which encompasses a wide range of machine learning techniques such as Generative Adversarial Networks (GANs), Variational Autoencoders (VAEs), and GAN-inspired methods, has numerous promising business applications. Here are some examples:\n",
      "\n",
      "1. **Content creation**: Generative AI can be used to generate high-quality content, such as images, videos, music, and text. This can be useful for businesses that need to create content quickly or at scale, but don't have the resources to do so traditionally.\n",
      "2. **Personalization**: Generative AI can help personalize customer experiences by generating content tailored to individual users' preferences, behaviors, and demographics.\n",
      "3. **Product design**: Generative AI can assist in designing new products or product variations, reducing the time and cost associated with traditional design processes.\n",
      "4. **Financial modeling and forecasting**: Generative AI models can be trained on historical financial data and then used to forecast future performance, helping businesses make more accurate predictions and informed decisions.\n",
      "5. **Customer service chatbots**: Generative AI can power chatbots that generate responses to customer inquiries, improving the efficiency and effectiveness of customer support teams.\n",
      "6. **Content localization and translation**: Generative AI can be used to quickly localize content for international markets by generating texts, images, videos, or audio in different languages and cultures.\n",
      "7. **Synthetic data generation**: Generative AI models can generate synthetic data that is identical to real-world data but doesn't reveal sensitive information, helping businesses protect their intellectual property and maintain data confidentiality.\n",
      "8. **Marketing and advertising campaigns**: Generative AI can help create targeted marketing campaigns by generating ad content, product variations, or even entire ad campaigns.\n",
      "9. **Creative industries**: Generative AI has the potential to revolutionize creative fields such as art, music, fashion, and film, enabling new and innovative forms of creative expression.\n",
      "10. **Supply chain management**: Generative AI can be used to optimize supply chains by predicting demand, identifying bottlenecks, and recommending the most efficient ways to manage inventory and shipping.\n",
      "\n",
      "Some specific examples of businesses that are already leveraging Generative AI include:\n",
      "\n",
      "* Google's Duplex, which uses a combination of machine learning and natural language processing (NLP) to generate human-like phone scripts.\n",
      "* Fashion brand Farfetch, which uses generative AI models to design new clothing lines and create personalized fashion recommendations for customers.\n",
      "* Spotify, which uses Generative Adversarial Networks (GANs) to generate new music tracks and audio samples.\n",
      "\n",
      "These are just a few examples of the many exciting business applications of Generative AI. As the technology continues to evolve, we can expect even more innovative and practical solutions to emerge in various industries.\n"
     ]
    }
   ],
   "source": [
    "# There's actually an alternative approach that some people might prefer\n",
    "# You can use the OpenAI client python library to call Ollama:\n",
    "\n",
    "from openai import OpenAI\n",
    "ollama_via_openai = OpenAI(base_url='http://localhost:11434/v1', api_key='ollama')\n",
    "\n",
    "response = ollama_via_openai.chat.completions.create(\n",
    "    model=MODEL,\n",
    "    messages=messages\n",
    ")\n",
    "\n",
    "print(response.choices[0].message.content)"
   ]
  },
  {
   "cell_type": "markdown",
   "id": "1622d9bb-5c68-4d4e-9ca4-b492c751f898",
   "metadata": {},
   "source": [
    "# NOW the exercise for you\n",
    "\n",
    "Take the code from day1 and incorporate it here, to build a website summarizer that uses Llama 3.2 running locally instead of OpenAI; use either of the above approaches."
   ]
  },
  {
   "cell_type": "code",
   "execution_count": 11,
   "id": "402d5686-4e76-4110-b65a-b3906c35c0a4",
   "metadata": {},
   "outputs": [
    {
     "data": {
      "text/markdown": [
       "# Website Summary\n",
       "\n",
       "## Overview\n",
       "\n",
       "This website belongs to Edward Donner, a co-founder and CTO of Nebula.io. The website showcases his interests in LLMs (Large Language Models), AI, and technology.\n",
       "\n",
       "## Key Takeaways\n",
       "\n",
       "* Edward is passionate about applying AI to help people discover their potential.\n",
       "* He is the co-founder and CTO of Nebula.io, which uses proprietary LLMs for talent sourcing and management.\n",
       "* The website features news and announcements from various dates:\n",
       "\t+ December 21, 2024: \"Welcome, SuperDataScientists!\"\n",
       "\t+ November 13, 2024: Mastering AI and LLM Engineering – Resources\n",
       "\t+ October 16, 2024: From Software Engineer to AI Data Scientist – resources\n",
       "\t+ August 6, 2024: Outsmart LLM Arena – a battle of diplomacy and deviousness\n",
       "\n",
       "## Contact Information\n",
       "\n",
       "* Email: ed [at] edwarddonner [dot] com\n",
       "* Website: www.edwarddonner.com\n",
       "* Social media links to LinkedIn, Twitter, Facebook"
      ],
      "text/plain": [
       "<IPython.core.display.Markdown object>"
      ]
     },
     "metadata": {},
     "output_type": "display_data"
    }
   ],
   "source": [
    "from IPython.display import Markdown, display\n",
    "\n",
    "headers = {\n",
    " \"User-Agent\": \"Mozilla/5.0 (Windows NT 10.0; Win64; x64) AppleWebKit/537.36 (KHTML, like Gecko) Chrome/117.0.0.0 Safari/537.36\"\n",
    "}\n",
    "class Website:\n",
    "\n",
    "    def __init__(self, url):\n",
    "        \"\"\"\n",
    "        Create this Website object from the given url using the BeautifulSoup library\n",
    "        \"\"\"\n",
    "        self.url = url\n",
    "        response = requests.get(url, headers=headers)\n",
    "        soup = BeautifulSoup(response.content, 'html.parser')\n",
    "        self.title = soup.title.string if soup.title else \"No title found\"\n",
    "        for irrelevant in soup.body([\"script\", \"style\", \"img\", \"input\"]):\n",
    "            irrelevant.decompose()\n",
    "        self.text = soup.body.get_text(separator=\"\\n\", strip=True)\n",
    "        \n",
    "def user_prompt_for(website):\n",
    "    user_prompt = f\"You are looking at a website titled {website.title}\"\n",
    "    user_prompt += \"\\nThe contents of this website is as follows; \\\n",
    "please provide a short summary of this website in markdown. \\\n",
    "If it includes news or announcements, then summarize these too.\\n\\n\"\n",
    "    user_prompt += website.text\n",
    "    return user_prompt\n",
    "\n",
    "website = Website(\"https://edwarddonner.com/\")\n",
    "system_prompt = \"You are an assistant that analyzes the contents of a website \\\n",
    "and provides a short summary, ignoring text that might be navigation related. \\\n",
    "Respond in markdown.\"\n",
    "user_prompt = user_prompt_for(website)\n",
    "\n",
    "messages = [\n",
    "    {\n",
    "        \"role\": \"system\",\n",
    "        \"content\": system_prompt\n",
    "    },\n",
    "    {\n",
    "        \"role\": \"user\",\n",
    "        \"content\": user_prompt\n",
    "    }\n",
    "]\n",
    "\n",
    "response = ollama.chat(model=MODEL, messages=messages)\n",
    "display(Markdown(response['message']['content']))"
   ]
  },
  {
   "cell_type": "code",
   "execution_count": null,
   "id": "d9b198c6-4641-40f3-b0e9-c21910d8940c",
   "metadata": {},
   "outputs": [],
   "source": []
  }
 ],
 "metadata": {
  "kernelspec": {
   "display_name": "Python 3 (ipykernel)",
   "language": "python",
   "name": "python3"
  },
  "language_info": {
   "codemirror_mode": {
    "name": "ipython",
    "version": 3
   },
   "file_extension": ".py",
   "mimetype": "text/x-python",
   "name": "python",
   "nbconvert_exporter": "python",
   "pygments_lexer": "ipython3",
   "version": "3.11.11"
  }
 },
 "nbformat": 4,
 "nbformat_minor": 5
}
