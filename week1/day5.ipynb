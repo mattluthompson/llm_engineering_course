{
 "cells": [
  {
   "cell_type": "markdown",
   "id": "a98030af-fcd1-4d63-a36e-38ba053498fa",
   "metadata": {},
   "source": [
    "# A full business solution\n",
    "\n",
    "## Now we will take our project from Day 1 to the next level\n",
    "\n",
    "### BUSINESS CHALLENGE:\n",
    "\n",
    "Create a product that builds a Brochure for a company to be used for prospective clients, investors and potential recruits.\n",
    "\n",
    "We will be provided a company name and their primary website.\n",
    "\n",
    "See the end of this notebook for examples of real-world business applications.\n",
    "\n",
    "And remember: I'm always available if you have problems or ideas! Please do reach out."
   ]
  },
  {
   "cell_type": "code",
   "execution_count": 1,
   "id": "d5b08506-dc8b-4443-9201-5f1848161363",
   "metadata": {},
   "outputs": [],
   "source": [
    "# imports\n",
    "# If these fail, please check you're running from an 'activated' environment with (llms) in the command prompt\n",
    "\n",
    "import os\n",
    "import requests\n",
    "import json\n",
    "from typing import List\n",
    "from dotenv import load_dotenv\n",
    "from bs4 import BeautifulSoup\n",
    "from IPython.display import Markdown, display, update_display\n",
    "from openai import OpenAI"
   ]
  },
  {
   "cell_type": "code",
   "execution_count": 2,
   "id": "fc5d8880-f2ee-4c06-af16-ecbc0262af61",
   "metadata": {},
   "outputs": [
    {
     "name": "stdout",
     "output_type": "stream",
     "text": [
      "API key looks good so far\n"
     ]
    }
   ],
   "source": [
    "# Initialize and constants\n",
    "\n",
    "load_dotenv(override=True)\n",
    "api_key = os.getenv('OPENAI_API_KEY')\n",
    "\n",
    "if api_key and api_key.startswith('sk-proj-') and len(api_key)>10:\n",
    "    print(\"API key looks good so far\")\n",
    "else:\n",
    "    print(\"There might be a problem with your API key? Please visit the troubleshooting notebook!\")\n",
    "    \n",
    "MODEL = 'gpt-4o-mini'\n",
    "openai = OpenAI()"
   ]
  },
  {
   "cell_type": "code",
   "execution_count": 3,
   "id": "106dd65e-90af-4ca8-86b6-23a41840645b",
   "metadata": {},
   "outputs": [],
   "source": [
    "# A class to represent a Webpage\n",
    "\n",
    "# Some websites need you to use proper headers when fetching them:\n",
    "headers = {\n",
    " \"User-Agent\": \"Mozilla/5.0 (Windows NT 10.0; Win64; x64) AppleWebKit/537.36 (KHTML, like Gecko) Chrome/117.0.0.0 Safari/537.36\"\n",
    "}\n",
    "\n",
    "class Website:\n",
    "    \"\"\"\n",
    "    A utility class to represent a Website that we have scraped, now with links\n",
    "    \"\"\"\n",
    "\n",
    "    def __init__(self, url):\n",
    "        self.url = url\n",
    "        response = requests.get(url, headers=headers)\n",
    "        self.body = response.content\n",
    "        soup = BeautifulSoup(self.body, 'html.parser')\n",
    "        self.title = soup.title.string if soup.title else \"No title found\"\n",
    "        if soup.body:\n",
    "            for irrelevant in soup.body([\"script\", \"style\", \"img\", \"input\"]):\n",
    "                irrelevant.decompose()\n",
    "            self.text = soup.body.get_text(separator=\"\\n\", strip=True)\n",
    "        else:\n",
    "            self.text = \"\"\n",
    "        links = [link.get('href') for link in soup.find_all('a')]\n",
    "        self.links = [link for link in links if link]\n",
    "\n",
    "    def get_contents(self):\n",
    "        return f\"Webpage Title:\\n{self.title}\\nWebpage Contents:\\n{self.text}\\n\\n\""
   ]
  },
  {
   "cell_type": "code",
   "execution_count": 4,
   "id": "e30d8128-933b-44cc-81c8-ab4c9d86589a",
   "metadata": {},
   "outputs": [
    {
     "data": {
      "text/plain": [
       "['https://edwarddonner.com/',\n",
       " 'https://edwarddonner.com/outsmart/',\n",
       " 'https://edwarddonner.com/about-me-and-about-nebula/',\n",
       " 'https://edwarddonner.com/posts/',\n",
       " 'https://edwarddonner.com/',\n",
       " 'https://news.ycombinator.com',\n",
       " 'https://nebula.io/?utm_source=ed&utm_medium=referral',\n",
       " 'https://www.prnewswire.com/news-releases/wynden-stark-group-acquires-nyc-venture-backed-tech-startup-untapt-301269512.html',\n",
       " 'https://patents.google.com/patent/US20210049536A1/',\n",
       " 'https://www.linkedin.com/in/eddonner/',\n",
       " 'https://edwarddonner.com/2024/12/21/llm-resources-superdatascience/',\n",
       " 'https://edwarddonner.com/2024/12/21/llm-resources-superdatascience/',\n",
       " 'https://edwarddonner.com/2024/11/13/llm-engineering-resources/',\n",
       " 'https://edwarddonner.com/2024/11/13/llm-engineering-resources/',\n",
       " 'https://edwarddonner.com/2024/10/16/from-software-engineer-to-ai-data-scientist-resources/',\n",
       " 'https://edwarddonner.com/2024/10/16/from-software-engineer-to-ai-data-scientist-resources/',\n",
       " 'https://edwarddonner.com/2024/08/06/outsmart/',\n",
       " 'https://edwarddonner.com/2024/08/06/outsmart/',\n",
       " 'https://edwarddonner.com/',\n",
       " 'https://edwarddonner.com/outsmart/',\n",
       " 'https://edwarddonner.com/about-me-and-about-nebula/',\n",
       " 'https://edwarddonner.com/posts/',\n",
       " 'mailto:hello@mygroovydomain.com',\n",
       " 'https://www.linkedin.com/in/eddonner/',\n",
       " 'https://twitter.com/edwarddonner',\n",
       " 'https://www.facebook.com/edward.donner.52']"
      ]
     },
     "execution_count": 4,
     "metadata": {},
     "output_type": "execute_result"
    }
   ],
   "source": [
    "ed = Website(\"https://edwarddonner.com\")\n",
    "ed.links"
   ]
  },
  {
   "cell_type": "markdown",
   "id": "1771af9c-717a-4fca-bbbe-8a95893312c3",
   "metadata": {},
   "source": [
    "## First step: Have GPT-4o-mini figure out which links are relevant\n",
    "\n",
    "### Use a call to gpt-4o-mini to read the links on a webpage, and respond in structured JSON.  \n",
    "It should decide which links are relevant, and replace relative links such as \"/about\" with \"https://company.com/about\".  \n",
    "We will use \"one shot prompting\" in which we provide an example of how it should respond in the prompt.\n",
    "\n",
    "This is an excellent use case for an LLM, because it requires nuanced understanding. Imagine trying to code this without LLMs by parsing and analyzing the webpage - it would be very hard!\n",
    "\n",
    "Sidenote: there is a more advanced technique called \"Structured Outputs\" in which we require the model to respond according to a spec. We cover this technique in Week 8 during our autonomous Agentic AI project."
   ]
  },
  {
   "cell_type": "code",
   "execution_count": 5,
   "id": "6957b079-0d96-45f7-a26a-3487510e9b35",
   "metadata": {},
   "outputs": [],
   "source": [
    "link_system_prompt = \"You are provided with a list of links found on a webpage. \\\n",
    "You are able to decide which of the links would be most relevant to include in a brochure about the company, \\\n",
    "such as links to an About page, or a Company page, or Careers/Jobs pages.\\n\"\n",
    "link_system_prompt += \"You should respond in JSON as in this example:\"\n",
    "link_system_prompt += \"\"\"\n",
    "{\n",
    "    \"links\": [\n",
    "        {\"type\": \"about page\", \"url\": \"https://full.url/goes/here/about\"},\n",
    "        {\"type\": \"careers page\": \"url\": \"https://another.full.url/careers\"}\n",
    "    ]\n",
    "}\n",
    "\"\"\""
   ]
  },
  {
   "cell_type": "code",
   "execution_count": 6,
   "id": "b97e4068-97ed-4120-beae-c42105e4d59a",
   "metadata": {},
   "outputs": [
    {
     "name": "stdout",
     "output_type": "stream",
     "text": [
      "You are provided with a list of links found on a webpage. You are able to decide which of the links would be most relevant to include in a brochure about the company, such as links to an About page, or a Company page, or Careers/Jobs pages.\n",
      "You should respond in JSON as in this example:\n",
      "{\n",
      "    \"links\": [\n",
      "        {\"type\": \"about page\", \"url\": \"https://full.url/goes/here/about\"},\n",
      "        {\"type\": \"careers page\": \"url\": \"https://another.full.url/careers\"}\n",
      "    ]\n",
      "}\n",
      "\n"
     ]
    }
   ],
   "source": [
    "print(link_system_prompt)"
   ]
  },
  {
   "cell_type": "code",
   "execution_count": 7,
   "id": "8e1f601b-2eaf-499d-b6b8-c99050c9d6b3",
   "metadata": {},
   "outputs": [],
   "source": [
    "def get_links_user_prompt(website):\n",
    "    user_prompt = f\"Here is the list of links on the website of {website.url} - \"\n",
    "    user_prompt += \"please decide which of these are relevant web links for a brochure about the company, respond with the full https URL in JSON format. \\\n",
    "Do not include Terms of Service, Privacy, email links.\\n\"\n",
    "    user_prompt += \"Links (some might be relative links):\\n\"\n",
    "    user_prompt += \"\\n\".join(website.links)\n",
    "    return user_prompt"
   ]
  },
  {
   "cell_type": "code",
   "execution_count": 8,
   "id": "6bcbfa78-6395-4685-b92c-22d592050fd7",
   "metadata": {},
   "outputs": [
    {
     "name": "stdout",
     "output_type": "stream",
     "text": [
      "Here is the list of links on the website of https://edwarddonner.com - please decide which of these are relevant web links for a brochure about the company, respond with the full https URL in JSON format. Do not include Terms of Service, Privacy, email links.\n",
      "Links (some might be relative links):\n",
      "https://edwarddonner.com/\n",
      "https://edwarddonner.com/outsmart/\n",
      "https://edwarddonner.com/about-me-and-about-nebula/\n",
      "https://edwarddonner.com/posts/\n",
      "https://edwarddonner.com/\n",
      "https://news.ycombinator.com\n",
      "https://nebula.io/?utm_source=ed&utm_medium=referral\n",
      "https://www.prnewswire.com/news-releases/wynden-stark-group-acquires-nyc-venture-backed-tech-startup-untapt-301269512.html\n",
      "https://patents.google.com/patent/US20210049536A1/\n",
      "https://www.linkedin.com/in/eddonner/\n",
      "https://edwarddonner.com/2024/12/21/llm-resources-superdatascience/\n",
      "https://edwarddonner.com/2024/12/21/llm-resources-superdatascience/\n",
      "https://edwarddonner.com/2024/11/13/llm-engineering-resources/\n",
      "https://edwarddonner.com/2024/11/13/llm-engineering-resources/\n",
      "https://edwarddonner.com/2024/10/16/from-software-engineer-to-ai-data-scientist-resources/\n",
      "https://edwarddonner.com/2024/10/16/from-software-engineer-to-ai-data-scientist-resources/\n",
      "https://edwarddonner.com/2024/08/06/outsmart/\n",
      "https://edwarddonner.com/2024/08/06/outsmart/\n",
      "https://edwarddonner.com/\n",
      "https://edwarddonner.com/outsmart/\n",
      "https://edwarddonner.com/about-me-and-about-nebula/\n",
      "https://edwarddonner.com/posts/\n",
      "mailto:hello@mygroovydomain.com\n",
      "https://www.linkedin.com/in/eddonner/\n",
      "https://twitter.com/edwarddonner\n",
      "https://www.facebook.com/edward.donner.52\n"
     ]
    }
   ],
   "source": [
    "print(get_links_user_prompt(ed))"
   ]
  },
  {
   "cell_type": "code",
   "execution_count": 9,
   "id": "a29aca19-ca13-471c-a4b4-5abbfa813f69",
   "metadata": {},
   "outputs": [],
   "source": [
    "def get_links(url):\n",
    "    website = Website(url)\n",
    "    response = openai.chat.completions.create(\n",
    "        model=MODEL,\n",
    "        messages=[\n",
    "            {\"role\": \"system\", \"content\": link_system_prompt},\n",
    "            {\"role\": \"user\", \"content\": get_links_user_prompt(website)}\n",
    "      ],\n",
    "        response_format={\"type\": \"json_object\"}\n",
    "    )\n",
    "    result = response.choices[0].message.content\n",
    "    return json.loads(result)"
   ]
  },
  {
   "cell_type": "code",
   "execution_count": 10,
   "id": "74a827a0-2782-4ae5-b210-4a242a8b4cc2",
   "metadata": {},
   "outputs": [
    {
     "data": {
      "text/plain": [
       "['/',\n",
       " '/models',\n",
       " '/datasets',\n",
       " '/spaces',\n",
       " '/posts',\n",
       " '/docs',\n",
       " '/enterprise',\n",
       " '/pricing',\n",
       " '/login',\n",
       " '/join',\n",
       " '/deepseek-ai/DeepSeek-R1',\n",
       " '/hexgrad/Kokoro-82M',\n",
       " '/openbmb/MiniCPM-o-2_6',\n",
       " '/MiniMaxAI/MiniMax-Text-01',\n",
       " '/jinaai/ReaderLM-v2',\n",
       " '/models',\n",
       " '/spaces/hexgrad/Kokoro-TTS',\n",
       " '/spaces/JeffreyXiang/TRELLIS',\n",
       " '/spaces/lllyasviel/iclight-v2',\n",
       " '/spaces/Kwai-Kolors/Kolors-Virtual-Try-On',\n",
       " '/spaces/black-forest-labs/FLUX.1-dev',\n",
       " '/spaces',\n",
       " '/datasets/fka/awesome-chatgpt-prompts',\n",
       " '/datasets/HumanLLMs/Human-Like-DPO-Dataset',\n",
       " '/datasets/NovaSky-AI/Sky-T1_data_17k',\n",
       " '/datasets/DAMO-NLP-SG/multimodal_textbook',\n",
       " '/datasets/AI-MO/NuminaMath-CoT',\n",
       " '/datasets',\n",
       " '/join',\n",
       " '/pricing#endpoints',\n",
       " '/pricing#spaces',\n",
       " '/pricing',\n",
       " '/enterprise',\n",
       " '/enterprise',\n",
       " '/enterprise',\n",
       " '/enterprise',\n",
       " '/enterprise',\n",
       " '/enterprise',\n",
       " '/enterprise',\n",
       " '/allenai',\n",
       " '/facebook',\n",
       " '/amazon',\n",
       " '/google',\n",
       " '/Intel',\n",
       " '/microsoft',\n",
       " '/grammarly',\n",
       " '/Writer',\n",
       " '/docs/transformers',\n",
       " '/docs/diffusers',\n",
       " '/docs/safetensors',\n",
       " '/docs/huggingface_hub',\n",
       " '/docs/tokenizers',\n",
       " '/docs/peft',\n",
       " '/docs/transformers.js',\n",
       " '/docs/timm',\n",
       " '/docs/trl',\n",
       " '/docs/datasets',\n",
       " '/docs/text-generation-inference',\n",
       " '/docs/accelerate',\n",
       " '/models',\n",
       " '/datasets',\n",
       " '/spaces',\n",
       " '/tasks',\n",
       " 'https://ui.endpoints.huggingface.co',\n",
       " '/chat',\n",
       " '/huggingface',\n",
       " '/brand',\n",
       " '/terms-of-service',\n",
       " '/privacy',\n",
       " 'https://apply.workable.com/huggingface/',\n",
       " 'mailto:press@huggingface.co',\n",
       " '/learn',\n",
       " '/docs',\n",
       " '/blog',\n",
       " 'https://discuss.huggingface.co',\n",
       " 'https://status.huggingface.co/',\n",
       " 'https://github.com/huggingface',\n",
       " 'https://twitter.com/huggingface',\n",
       " 'https://www.linkedin.com/company/huggingface/',\n",
       " '/join/discord',\n",
       " 'https://www.zhihu.com/org/huggingface',\n",
       " 'https://huggingface.co/datasets/huggingface/documentation-images/resolve/main/blog/chinese-language-blog/wechat.jpg']"
      ]
     },
     "execution_count": 10,
     "metadata": {},
     "output_type": "execute_result"
    }
   ],
   "source": [
    "# Anthropic has made their site harder to scrape, so I'm using HuggingFace..\n",
    "\n",
    "huggingface = Website(\"https://huggingface.co\")\n",
    "huggingface.links"
   ]
  },
  {
   "cell_type": "code",
   "execution_count": 11,
   "id": "d3d583e2-dcc4-40cc-9b28-1e8dbf402924",
   "metadata": {},
   "outputs": [
    {
     "data": {
      "text/plain": [
       "{'links': [{'type': 'about page', 'url': 'https://huggingface.co'},\n",
       "  {'type': 'enterprise page', 'url': 'https://huggingface.co/enterprise'},\n",
       "  {'type': 'pricing page', 'url': 'https://huggingface.co/pricing'},\n",
       "  {'type': 'careers page', 'url': 'https://apply.workable.com/huggingface/'},\n",
       "  {'type': 'blog page', 'url': 'https://huggingface.co/blog'},\n",
       "  {'type': 'community discussion page',\n",
       "   'url': 'https://discuss.huggingface.co'},\n",
       "  {'type': 'GitHub page', 'url': 'https://github.com/huggingface'},\n",
       "  {'type': 'LinkedIn page',\n",
       "   'url': 'https://www.linkedin.com/company/huggingface/'}]}"
      ]
     },
     "execution_count": 11,
     "metadata": {},
     "output_type": "execute_result"
    }
   ],
   "source": [
    "get_links(\"https://huggingface.co\")"
   ]
  },
  {
   "cell_type": "markdown",
   "id": "0d74128e-dfb6-47ec-9549-288b621c838c",
   "metadata": {},
   "source": [
    "## Second step: make the brochure!\n",
    "\n",
    "Assemble all the details into another prompt to GPT4-o"
   ]
  },
  {
   "cell_type": "code",
   "execution_count": 12,
   "id": "85a5b6e2-e7ef-44a9-bc7f-59ede71037b5",
   "metadata": {},
   "outputs": [],
   "source": [
    "def get_all_details(url):\n",
    "    result = \"Landing page:\\n\"\n",
    "    result += Website(url).get_contents()\n",
    "    links = get_links(url)\n",
    "    print(\"Found links:\", links)\n",
    "    for link in links[\"links\"]:\n",
    "        result += f\"\\n\\n{link['type']}\\n\"\n",
    "        result += Website(link[\"url\"]).get_contents()\n",
    "    return result"
   ]
  },
  {
   "cell_type": "code",
   "execution_count": null,
   "id": "5099bd14-076d-4745-baf3-dac08d8e5ab2",
   "metadata": {},
   "outputs": [],
   "source": [
    "print(get_all_details(\"https://huggingface.co\"))"
   ]
  },
  {
   "cell_type": "code",
   "execution_count": 22,
   "id": "9b863a55-f86c-4e3f-8a79-94e24c1a8cf2",
   "metadata": {},
   "outputs": [],
   "source": [
    "system_prompt = \"You are an assistant that analyzes the contents of several relevant pages from a company website \\\n",
    "and creates a short brochure about the company for prospective customers, investors and recruits. Respond in markdown.\\\n",
    "Include details of company culture, customers and careers/jobs if you have the information.\"\n",
    "\n",
    "# Or uncomment the lines below for a more humorous brochure - this demonstrates how easy it is to incorporate 'tone':\n",
    "\n",
    "system_prompt = \"You are an assistant that analyzes the contents of several relevant pages from a company website \\\n",
    "and creates a short humorous, entertaining, jokey brochure about the company for prospective customers, investors and recruits. Respond in markdown.\\\n",
    "Include details of company culture, customers and careers/jobs if you have the information.\"\n"
   ]
  },
  {
   "cell_type": "code",
   "execution_count": 15,
   "id": "6ab83d92-d36b-4ce0-8bcc-5bb4c2f8ff23",
   "metadata": {},
   "outputs": [],
   "source": [
    "def get_brochure_user_prompt(company_name, url):\n",
    "    user_prompt = f\"You are looking at a company called: {company_name}\\n\"\n",
    "    user_prompt += f\"Here are the contents of its landing page and other relevant pages; use this information to build a short brochure of the company in markdown.\\n\"\n",
    "    user_prompt += get_all_details(url)\n",
    "    user_prompt = user_prompt[:5_000] # Truncate if more than 5,000 characters\n",
    "    return user_prompt"
   ]
  },
  {
   "cell_type": "code",
   "execution_count": 16,
   "id": "cd909e0b-1312-4ce2-a553-821e795d7572",
   "metadata": {},
   "outputs": [
    {
     "name": "stdout",
     "output_type": "stream",
     "text": [
      "Found links: {'links': [{'type': 'about page', 'url': 'https://huggingface.co/huggingface'}, {'type': 'careers page', 'url': 'https://apply.workable.com/huggingface/'}, {'type': 'enterprise page', 'url': 'https://huggingface.co/enterprise'}, {'type': 'pricing page', 'url': 'https://huggingface.co/pricing'}, {'type': 'blog page', 'url': 'https://huggingface.co/blog'}]}\n"
     ]
    },
    {
     "data": {
      "text/plain": [
       "'You are looking at a company called: HuggingFace\\nHere are the contents of its landing page and other relevant pages; use this information to build a short brochure of the company in markdown.\\nLanding page:\\nWebpage Title:\\nHugging Face – The AI community building the future.\\nWebpage Contents:\\nHugging Face\\nModels\\nDatasets\\nSpaces\\nPosts\\nDocs\\nEnterprise\\nPricing\\nLog In\\nSign Up\\nThe AI community building the future.\\nThe platform where the machine learning community collaborates on models, datasets, and applications.\\nTrending on\\nthis week\\nModels\\ndeepseek-ai/DeepSeek-R1\\nUpdated\\nabout 1 hour ago\\n•\\n5.57k\\n•\\n1.41k\\nhexgrad/Kokoro-82M\\nUpdated\\nabout 1 hour ago\\n•\\n29.4k\\n•\\n2.18k\\nopenbmb/MiniCPM-o-2_6\\nUpdated\\n31 minutes ago\\n•\\n24.1k\\n•\\n725\\nMiniMaxAI/MiniMax-Text-01\\nUpdated\\n5 days ago\\n•\\n3.18k\\n•\\n450\\njinaai/ReaderLM-v2\\nUpdated\\n7 minutes ago\\n•\\n13.1k\\n•\\n328\\nBrowse 400k+ models\\nSpaces\\nRunning\\non\\nZero\\n1.35k\\n❤️\\nKokoro TTS\\nNow in 5 languages!\\nRunning\\non\\nZero\\n3.2k\\n🏢\\nTRELLIS\\nScalable and Versatile 3D Generation from images\\nRunning\\non\\nZero\\n1.8k\\n📈\\nIC Light V2\\nRunning\\non\\nCPU Upgrade\\n6.91k\\n👕\\nKolors Virtual Try-On\\nRunning\\non\\nZero\\n6.49k\\n🖥️\\nFLUX.1 [dev]\\nBrowse 150k+ applications\\nDatasets\\nfka/awesome-chatgpt-prompts\\nUpdated\\n16 days ago\\n•\\n6.1k\\n•\\n7k\\nHumanLLMs/Human-Like-DPO-Dataset\\nUpdated\\n9 days ago\\n•\\n1.09k\\n•\\n132\\nNovaSky-AI/Sky-T1_data_17k\\nUpdated\\n8 days ago\\n•\\n2.38k\\n•\\n136\\nDAMO-NLP-SG/multimodal_textbook\\nUpdated\\n11 days ago\\n•\\n10.6k\\n•\\n127\\nAI-MO/NuminaMath-CoT\\nUpdated\\nNov 25, 2024\\n•\\n4.17k\\n•\\n330\\nBrowse 100k+ datasets\\nThe Home of Machine Learning\\nCreate, discover and collaborate on ML better.\\nThe collaboration platform\\nHost and collaborate on unlimited public models, datasets and applications.\\nMove faster\\nWith the HF Open source stack.\\nExplore all modalities\\nText, image, video, audio or even 3D.\\nBuild your portfolio\\nShare your work with the world and build your ML profile.\\nSign Up\\nAccelerate your ML\\nWe provide paid Compute and Enterprise solutions.\\nCompute\\nDeploy on optimized\\nInference Endpoints\\nor update your\\nSpaces applications\\nto a GPU in a few clicks.\\nView pricing\\nStarting at $0.60/hour for GPU\\nEnterprise\\nGive your team the most advanced platform to build AI with enterprise-grade security, access controls and\\n\\t\\t\\tdedicated support.\\nGetting started\\nStarting at $20/user/month\\nSingle Sign-On\\nRegions\\nPriority Support\\nAudit Logs\\nResource Groups\\nPrivate Datasets Viewer\\nMore than 50,000 organizations are using Hugging Face\\nAi2\\nEnterprise\\nnon-profit\\n•\\n378 models\\n•\\n1.93k followers\\nAI at Meta\\nEnterprise\\ncompany\\n•\\n2.06k models\\n•\\n4.21k followers\\nAmazon Web Services\\ncompany\\n•\\n20 models\\n•\\n2.56k followers\\nGoogle\\ncompany\\n•\\n913 models\\n•\\n6.7k followers\\nIntel\\ncompany\\n•\\n218 models\\n•\\n2.16k followers\\nMicrosoft\\ncompany\\n•\\n353 models\\n•\\n7.57k followers\\nGrammarly\\ncompany\\n•\\n10 models\\n•\\n112 followers\\nWriter\\nEnterprise\\ncompany\\n•\\n18 models\\n•\\n200 followers\\nOur Open Source\\nWe are building the foundation of ML tooling with the community.\\nTransformers\\n137,843\\nState-of-the-art ML for Pytorch, TensorFlow, and JAX.\\nDiffusers\\n27,211\\nState-of-the-art diffusion models for image and audio generation in PyTorch.\\nSafetensors\\n3,013\\nSimple, safe way to store and distribute neural networks weights safely and quickly.\\nHub Python Library\\n2,242\\nClient library for the HF Hub: manage repositories from your Python runtime.\\nTokenizers\\n9,272\\nFast tokenizers, optimized for both research and production.\\nPEFT\\n17,030\\nParameter efficient finetuning methods for large models.\\nTransformers.js\\n12,631\\nState-of-the-art Machine Learning for the web. Run Transformers directly in your browser, with no need for a server.\\ntimm\\n32,953\\nState-of-the-art computer vision models, layers, optimizers, training/evaluation, and utilities.\\nTRL\\n10,654\\nTrain transformer language models with reinforcement learning.\\nDatasets\\n19,477\\nAccess and share datasets for computer vision, audio, and NLP tasks.\\nText Generation Inference\\n9,614\\nToolkit to serve Large Language Models.\\nAccelerate\\n8,196\\nEasily train and use PyTorch models with multi-GPU, TPU, mixed-precision.\\nSystem theme\\nWebsite\\nModels\\nDatasets\\nSpaces\\nTasks\\nInference Endpoints\\nHuggingChat\\nCompany\\nAbout\\nBrand assets\\nTerms of service\\nPrivacy\\nJobs\\nPress\\nResources\\nLearn\\nDocumentation\\nBlog\\nForum\\nService Status\\nSocial\\nGitHub\\nTwitter\\nLinkedIn\\nDiscord\\nZhihu\\nWeChat\\n\\n\\n\\nabout page\\nWebpage Title:\\nhuggingface (Hugging Face)\\nWebpage Contents:\\nHugging Face\\nModels\\nDatasets\\nSpaces\\nPosts\\nDocs\\nEnterprise\\nPricing\\nLog In\\nSign Up\\nHugging Face\\nEnterprise\\ncompany\\nVerified\\nhttps://huggingface.co\\nhuggingface\\nhuggingface\\nActivity Feed\\nFollow\\n13,509\\nAI & ML interests\\nThe AI community building the future.\\nRecent Activity\\nnielsr\\nupdated\\na dataset\\nabout 4 hours ago\\nhuggingface/community-science-merged\\nsayakpaul\\nupdated\\na dataset\\nabout 23 hours ago\\nhuggingface/documentation-images\\nm-ric\\nupdated\\na dataset\\n1 day ago\\nhuggingface/documentation-images\\nView all activity\\nArticles\\nYay! Organizations can now publish blog Articles\\n1 day ago\\n•\\n26\\nTeam members\\n223\\n+189\\n+176\\n+155\\n+145\\n+125\\nOrganization Card\\nCommunity\\nAbout org car'"
      ]
     },
     "execution_count": 16,
     "metadata": {},
     "output_type": "execute_result"
    }
   ],
   "source": [
    "get_brochure_user_prompt(\"HuggingFace\", \"https://huggingface.co\")"
   ]
  },
  {
   "cell_type": "code",
   "execution_count": 18,
   "id": "e44de579-4a1a-4e6a-a510-20ea3e4b8d46",
   "metadata": {},
   "outputs": [],
   "source": [
    "def create_brochure(company_name, url):\n",
    "    response = openai.chat.completions.create(\n",
    "        model=MODEL,\n",
    "        messages=[\n",
    "            {\"role\": \"system\", \"content\": system_prompt},\n",
    "            {\"role\": \"user\", \"content\": get_brochure_user_prompt(company_name, url)}\n",
    "          ],\n",
    "    )\n",
    "    result = response.choices[0].message.content\n",
    "    display(Markdown(result))"
   ]
  },
  {
   "cell_type": "code",
   "execution_count": 19,
   "id": "e093444a-9407-42ae-924a-145730591a39",
   "metadata": {},
   "outputs": [
    {
     "name": "stdout",
     "output_type": "stream",
     "text": [
      "Found links: {'links': [{'type': 'about page', 'url': 'https://huggingface.com'}, {'type': 'company page', 'url': 'https://huggingface.com/enterprise'}, {'type': 'careers page', 'url': 'https://apply.workable.com/huggingface/'}, {'type': 'community page', 'url': 'https://discuss.huggingface.co'}, {'type': 'blog page', 'url': 'https://huggingface.com/blog'}, {'type': 'GitHub page', 'url': 'https://github.com/huggingface'}, {'type': 'LinkedIn page', 'url': 'https://www.linkedin.com/company/huggingface/'}, {'type': 'Twitter page', 'url': 'https://twitter.com/huggingface'}]}\n"
     ]
    },
    {
     "data": {
      "text/markdown": [
       "# Hugging Face Brochure\n",
       "\n",
       "## **About Us**\n",
       "### Hugging Face – The AI Community Building the Future\n",
       "At Hugging Face, we believe in the power of collaboration within the machine learning community. Our platform serves as a hub for researchers, developers, and enthusiasts to come together and build innovative AI models, datasets, and applications. By creating an open-source environment, we empower our users to share their work and enhance their ML profiles.\n",
       "\n",
       "## **Our Offerings**\n",
       "- **Models:** Access over **400k+** cutting-edge machine learning models.\n",
       "- **Datasets:** Browse through **100k+** diverse datasets for various use cases.\n",
       "- **Spaces:** Host and collaborate on **150k+** applications to accelerate your AI projects.\n",
       "  \n",
       "### **Enterprise Solutions**\n",
       "Hugging Face provides enterprise-grade services that include:\n",
       "- Optimized Inference Endpoints\n",
       "- Priority support and audit logs\n",
       "- Secure access controls and dedicated support\n",
       "\n",
       "Start at just **$20 per user/month** for enterprise features.\n",
       "\n",
       "## **Customer Base**\n",
       "Join over **50,000 organizations** utilizing Hugging Face, including:\n",
       "- **Meta**\n",
       "- **Amazon Web Services**\n",
       "- **Google**\n",
       "- **Microsoft**\n",
       "- **Intel**\n",
       "- And many more!\n",
       "\n",
       "## **Our Open Source Commitment**\n",
       "We are dedicated to fostering an open-source ecosystem, building essential ML tools alongside our community. Our popular libraries include:\n",
       "- **Transformers** for state-of-the-art ML in PyTorch, TensorFlow, and JAX\n",
       "- **Diffusers** for cutting-edge diffusion models\n",
       "- **Tokenizers** for optimized text processing\n",
       "\n",
       "## **Company Culture**\n",
       "At Hugging Face, we thrive on innovation, collaboration, and community engagement. Our culture encourages:\n",
       "- **Openness:** Sharing knowledge and resources to advance AI collectively\n",
       "- **Support:** A nurturing environment where you can learn, grow, and contribute to meaningful projects\n",
       "- **Diversity:** Embracing a range of perspectives to drive creativity and innovation\n",
       "\n",
       "## **Careers at Hugging Face**\n",
       "Join our passionate team at Hugging Face! We seek driven individuals who want to make an impact in the AI community. Explore our available positions and find your fit:\n",
       "- Software Engineering\n",
       "- Data Science\n",
       "- Community Management\n",
       "- Product Management\n",
       "\n",
       "## **Connect with Us**\n",
       "Stay updated and engage with our community through our various channels:\n",
       "- [GitHub](https://github.com/huggingface)\n",
       "- [Twitter](https://twitter.com/huggingface)\n",
       "- [LinkedIn](https://linkedin.com/company/hugging-face)\n",
       "- [Discord](https://discord.gg/huggingface)\n",
       "\n",
       "### **Join us in shaping the future of AI!**  \n",
       "Sign up today at [Hugging Face](https://huggingface.co) and discover the power of community-driven AI development."
      ],
      "text/plain": [
       "<IPython.core.display.Markdown object>"
      ]
     },
     "metadata": {},
     "output_type": "display_data"
    }
   ],
   "source": [
    "create_brochure(\"HuggingFace\", \"https://huggingface.com\")"
   ]
  },
  {
   "cell_type": "markdown",
   "id": "61eaaab7-0b47-4b29-82d4-75d474ad8d18",
   "metadata": {},
   "source": [
    "## Finally - a minor improvement\n",
    "\n",
    "With a small adjustment, we can change this so that the results stream back from OpenAI,\n",
    "with the familiar typewriter animation"
   ]
  },
  {
   "cell_type": "code",
   "execution_count": 20,
   "id": "51db0e49-f261-4137-aabe-92dd601f7725",
   "metadata": {},
   "outputs": [],
   "source": [
    "def stream_brochure(company_name, url):\n",
    "    stream = openai.chat.completions.create(\n",
    "        model=MODEL,\n",
    "        messages=[\n",
    "            {\"role\": \"system\", \"content\": system_prompt},\n",
    "            {\"role\": \"user\", \"content\": get_brochure_user_prompt(company_name, url)}\n",
    "          ],\n",
    "        stream=True\n",
    "    )\n",
    "    \n",
    "    response = \"\"\n",
    "    display_handle = display(Markdown(\"\"), display_id=True)\n",
    "    for chunk in stream:\n",
    "        response += chunk.choices[0].delta.content or ''\n",
    "        response = response.replace(\"```\",\"\").replace(\"markdown\", \"\")\n",
    "        update_display(Markdown(response), display_id=display_handle.display_id)"
   ]
  },
  {
   "cell_type": "code",
   "execution_count": 21,
   "id": "56bf0ae3-ee9d-4a72-9cd6-edcac67ceb6d",
   "metadata": {},
   "outputs": [
    {
     "name": "stdout",
     "output_type": "stream",
     "text": [
      "Found links: {'links': [{'type': 'home page', 'url': 'https://huggingface.co'}, {'type': 'about page', 'url': 'https://huggingface.co/huggingface'}, {'type': 'careers page', 'url': 'https://apply.workable.com/huggingface/'}, {'type': 'enterprise page', 'url': 'https://huggingface.co/enterprise'}, {'type': 'blog page', 'url': 'https://huggingface.co/blog'}, {'type': 'community page', 'url': 'https://discuss.huggingface.co'}, {'type': 'GitHub page', 'url': 'https://github.com/huggingface'}, {'type': 'Twitter page', 'url': 'https://twitter.com/huggingface'}, {'type': 'LinkedIn page', 'url': 'https://www.linkedin.com/company/huggingface/'}]}\n"
     ]
    },
    {
     "data": {
      "text/markdown": [
       "# Hugging Face Company Brochure\n",
       "\n",
       "## About Us\n",
       "Hugging Face is at the forefront of the AI revolution, fostering a community that collaborates to build innovative machine learning (ML) models, datasets, and applications. Our platform empowers researchers, developers, and organizations to accelerate their AI projects while contributing to an inclusive, open-source ecosystem.\n",
       "\n",
       "## Our Offerings\n",
       "\n",
       "### Models\n",
       "With over 400,000 models available, Hugging Face is the **home of machine learning**. From state-of-the-art natural language processing (NLP) to advanced computer vision, users can easily create, discover, and share models to enhance their projects.\n",
       "\n",
       "### Datasets\n",
       "Access a rich repository of over 100,000 datasets designed for various ML tasks, ensuring that users have the data needed to train their models efficiently.\n",
       "\n",
       "### AI Spaces\n",
       "Explore and run a variety of applications—150,000 strong and counting—where community members deploy creative AI solutions in practical scenarios. \n",
       "\n",
       "### Enterprise Solutions\n",
       "Hugging Face provides **enterprise-grade** solutions for over 50,000 organizations, enhancing security and offering dedicated support to facilitate advanced AI development. \n",
       "\n",
       "## Our Community\n",
       "At Hugging Face, we believe in the power of collaboration. Our platform hosts contributions from both indie creators and major enterprises such as **Meta**, **Amazon Web Services**, **Google**, and **Microsoft**. \n",
       "\n",
       "Join a vibrant community of both established organizations and innovative individuals committed to creating the future of AI. \n",
       "\n",
       "## Company Culture\n",
       "At Hugging Face, we value:\n",
       "- **Open Source**: We are dedicated to maintaining a free and inclusive development environment that allows all to contribute.\n",
       "- **Collaboration**: Our platform is built on shared knowledge and teamwork, utilizing collective intelligence to push boundaries.\n",
       "- **Innovation**: We encourage creative thinking and experimentation, enabling our team and community members to stay ahead in the field of AI.\n",
       "\n",
       "## Careers at Hugging Face\n",
       "We are always looking for passionate individuals to join our team! If you have a drive for innovation and a desire to contribute to the world of artificial intelligence, explore our careers page to discover opportunities across various departments, including engineering, product management, research, and community engagement.\n",
       "\n",
       "## Why Choose Hugging Face?\n",
       "- Leverage **cutting-edge technology** with our open-source tools like Transformers, Diffusers, and Accelerate.\n",
       "- Gain insights and support from a **robust community** of AI enthusiasts and professionals.\n",
       "- Benefit from our **scalable solutions** designed for both individuals and enterprises.\n",
       "  \n",
       "Together, we are building the future of AI. Join us at Hugging Face!\n",
       "\n",
       "---\n",
       "\n",
       "> For more information, visit our website: [Hugging Face](https://huggingface.co)  \n",
       "> Follow us on social media: [Twitter](https://twitter.com/huggingface) | [LinkedIn](https://www.linkedin.com/company/hugging-face) | [Discord](https://discord.com/invite/huggingface)  \n",
       "> Explore career opportunities at: [Jobs](https://huggingface.co/jobs)"
      ],
      "text/plain": [
       "<IPython.core.display.Markdown object>"
      ]
     },
     "metadata": {},
     "output_type": "display_data"
    }
   ],
   "source": [
    "stream_brochure(\"HuggingFace\", \"https://huggingface.co\")"
   ]
  },
  {
   "cell_type": "code",
   "execution_count": 23,
   "id": "fdb3f8d8-a3eb-41c8-b1aa-9f60686a653b",
   "metadata": {},
   "outputs": [
    {
     "name": "stdout",
     "output_type": "stream",
     "text": [
      "Found links: {'links': [{'type': 'about page', 'url': 'https://huggingface.co/huggingface'}, {'type': 'careers page', 'url': 'https://apply.workable.com/huggingface/'}, {'type': 'enterprise page', 'url': 'https://huggingface.co/enterprise'}, {'type': 'blog page', 'url': 'https://huggingface.co/blog'}, {'type': 'community forum', 'url': 'https://discuss.huggingface.co'}, {'type': 'status page', 'url': 'https://status.huggingface.co/'}, {'type': 'github page', 'url': 'https://github.com/huggingface'}, {'type': 'twitter page', 'url': 'https://twitter.com/huggingface'}, {'type': 'linkedin page', 'url': 'https://www.linkedin.com/company/huggingface/'}]}\n"
     ]
    },
    {
     "data": {
      "text/markdown": [
       "# 🎉 Welcome to the Hugging Face Brochure! 🎉\n",
       "\n",
       "### 🌟 Hugging Face - The AI Community That's Practically Cuddly! 🌟\n",
       "\n",
       "Have you ever wanted to work in a place where the algorithms are as friendly as the employees? Well, snuggle up to **Hugging Face**, where we build the future one model at a time! Ready to explore? Let's dive in!\n",
       "\n",
       "---\n",
       "\n",
       "### 🤖 What Do We Do? \n",
       "\n",
       "At Hugging Face, we provide the **ultimate playground** for all things machine learning (ML). Collaborate on:\n",
       "- **400,000+ Models**: Like a buffet, but instead of food, it’s algorithms!\n",
       "- **100,000+ Datasets**: Because data is the new oil, and we’re drilling deep!\n",
       "- **150,000+ Applications**: Our apps are so versatile, they put a Swiss Army knife to shame.\n",
       "\n",
       "And we do it **open source** because sharing is caring, and we’re also kind of like digital Santa Claus! 🎅\n",
       "\n",
       "---\n",
       "\n",
       "### 🏢 Company Culture - No Robots Allowed!\n",
       "\n",
       "Our company culture is as warm as a cozy blanket, with:\n",
       "- **Inclusivity**: Everyone is welcome - even your grandma (in spirit!).\n",
       "- **Fun Fridays**: Because who doesn’t love a good meme battle?\n",
       "- **Coffee on Tap**: Fuel for your inner nerd & the key to AI success!\n",
       "\n",
       "And did we mention? We like to refer to our break room as the **'Hug Zone.'** 🤗\n",
       "\n",
       "---\n",
       "\n",
       "### 🌐 Customers - Big Names, Bigger Hugs!\n",
       "\n",
       "With more than **50,000 organizations** using Hugging Face, our customer list reads like a tech startup dream:\n",
       "- **Microsoft**\n",
       "- **Amazon**\n",
       "- **Google**\n",
       "- **Grammarly**: They say they help with the writing; we think they just come for the hugs!\n",
       "\n",
       "Join the cool kids in the AI playground. No need for a password, just a cute smile and a genuine interest! 😏\n",
       "\n",
       "---\n",
       "\n",
       "### 💼 Careers - You're Invited to Our Hug Fest!\n",
       "\n",
       "Looking for a job? Want to be part of a community where your coding can directly impact *the future*? Check out our careers. Perks include:\n",
       "- 🤗 Working with folks who would literally hug a transformer (and we don’t mean the toy!).\n",
       "- 🌈 A diverse team that believes in *open source* - you get to share your own magic while learning from others!\n",
       "- 💻 Opportunities to innovate and collaborate: your wildest ML dreams can come true here!\n",
       "\n",
       "Openings are often available, but please—no velvet ropes. We’re all about accessibility! 👐\n",
       "\n",
       "---\n",
       "\n",
       "### 🌈 Ready to Embrace the Future? \n",
       "\n",
       "Whether you’re a customer, an investor, or a potential recruit looking for a fun place to call home, **Hugging Face** is waiting for you with tender algorithms and open arms. So, what are you waiting for? Let's get this AI party started! 🚀\n",
       "\n",
       "---\n",
       "\n",
       "**Follow Us for More Adventures:**\n",
       "- [Hugging Face](https://huggingface.co)\n",
       "- [Twitter](https://twitter.com/huggingface)\n",
       "- [GitHub](https://github.com/huggingface)\n",
       "\n",
       "**Let's Hug It Out!**"
      ],
      "text/plain": [
       "<IPython.core.display.Markdown object>"
      ]
     },
     "metadata": {},
     "output_type": "display_data"
    }
   ],
   "source": [
    "# Try changing the system prompt to the humorous version when you make the Brochure for Hugging Face:\n",
    "\n",
    "stream_brochure(\"HuggingFace\", \"https://huggingface.co\")"
   ]
  },
  {
   "cell_type": "markdown",
   "id": "a27bf9e0-665f-4645-b66b-9725e2a959b5",
   "metadata": {},
   "source": [
    "<table style=\"margin: 0; text-align: left;\">\n",
    "    <tr>\n",
    "        <td style=\"width: 150px; height: 150px; vertical-align: middle;\">\n",
    "            <img src=\"../business.jpg\" width=\"150\" height=\"150\" style=\"display: block;\" />\n",
    "        </td>\n",
    "        <td>\n",
    "            <h2 style=\"color:#181;\">Business applications</h2>\n",
    "            <span style=\"color:#181;\">In this exercise we extended the Day 1 code to make multiple LLM calls, and generate a document.\n",
    "\n",
    "This is perhaps the first example of Agentic AI design patterns, as we combined multiple calls to LLMs. This will feature more in Week 2, and then we will return to Agentic AI in a big way in Week 8 when we build a fully autonomous Agent solution.\n",
    "\n",
    "Generating content in this way is one of the very most common Use Cases. As with summarization, this can be applied to any business vertical. Write marketing content, generate a product tutorial from a spec, create personalized email content, and so much more. Explore how you can apply content generation to your business, and try making yourself a proof-of-concept prototype.</span>\n",
    "        </td>\n",
    "    </tr>\n",
    "</table>"
   ]
  },
  {
   "cell_type": "markdown",
   "id": "14b2454b-8ef8-4b5c-b928-053a15e0d553",
   "metadata": {},
   "source": [
    "<table style=\"margin: 0; text-align: left;\">\n",
    "    <tr>\n",
    "        <td style=\"width: 150px; height: 150px; vertical-align: middle;\">\n",
    "            <img src=\"../important.jpg\" width=\"150\" height=\"150\" style=\"display: block;\" />\n",
    "        </td>\n",
    "        <td>\n",
    "            <h2 style=\"color:#900;\">Before you move to Week 2 (which is tons of fun)</h2>\n",
    "            <span style=\"color:#900;\">Please see the week1 EXERCISE notebook for your challenge for the end of week 1. This will give you some essential practice working with Frontier APIs, and prepare you well for Week 2.</span>\n",
    "        </td>\n",
    "    </tr>\n",
    "</table>"
   ]
  },
  {
   "cell_type": "markdown",
   "id": "17b64f0f-7d33-4493-985a-033d06e8db08",
   "metadata": {},
   "source": [
    "<table style=\"margin: 0; text-align: left;\">\n",
    "    <tr>\n",
    "        <td style=\"width: 150px; height: 150px; vertical-align: middle;\">\n",
    "            <img src=\"../resources.jpg\" width=\"150\" height=\"150\" style=\"display: block;\" />\n",
    "        </td>\n",
    "        <td>\n",
    "            <h2 style=\"color:#f71;\">A reminder on 2 useful resources</h2>\n",
    "            <span style=\"color:#f71;\">1. The resources for the course are available <a href=\"https://edwarddonner.com/2024/11/13/llm-engineering-resources/\">here.</a><br/>\n",
    "            2. I'm on LinkedIn <a href=\"https://www.linkedin.com/in/eddonner/\">here</a> and I love connecting with people taking the course!\n",
    "            </span>\n",
    "        </td>\n",
    "    </tr>\n",
    "</table>"
   ]
  },
  {
   "cell_type": "markdown",
   "id": "6f48e42e-fa7a-495f-a5d4-26bfc24d60b6",
   "metadata": {},
   "source": [
    "<table style=\"margin: 0; text-align: left;\">\n",
    "    <tr>\n",
    "        <td style=\"width: 150px; height: 150px; vertical-align: middle;\">\n",
    "            <img src=\"../thankyou.jpg\" width=\"150\" height=\"150\" style=\"display: block;\" />\n",
    "        </td>\n",
    "        <td>\n",
    "            <h2 style=\"color:#090;\">Finally! I have a special request for you</h2>\n",
    "            <span style=\"color:#090;\">\n",
    "                My editor tells me that it makes a MASSIVE difference when students rate this course on Udemy - it's one of the main ways that Udemy decides whether to show it to others. If you're able to take a minute to rate this, I'd be so very grateful! And regardless - always please reach out to me at ed@edwarddonner.com if I can help at any point.\n",
    "            </span>\n",
    "        </td>\n",
    "    </tr>\n",
    "</table>"
   ]
  },
  {
   "cell_type": "code",
   "execution_count": null,
   "id": "b8d3e1a1-ba54-4907-97c5-30f89a24775b",
   "metadata": {},
   "outputs": [],
   "source": []
  }
 ],
 "metadata": {
  "kernelspec": {
   "display_name": "Python 3 (ipykernel)",
   "language": "python",
   "name": "python3"
  },
  "language_info": {
   "codemirror_mode": {
    "name": "ipython",
    "version": 3
   },
   "file_extension": ".py",
   "mimetype": "text/x-python",
   "name": "python",
   "nbconvert_exporter": "python",
   "pygments_lexer": "ipython3",
   "version": "3.11.11"
  }
 },
 "nbformat": 4,
 "nbformat_minor": 5
}
