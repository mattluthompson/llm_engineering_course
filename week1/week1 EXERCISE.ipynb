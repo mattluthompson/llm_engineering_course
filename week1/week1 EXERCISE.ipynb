{
 "cells": [
  {
   "cell_type": "markdown",
   "id": "fe12c203-e6a6-452c-a655-afb8a03a4ff5",
   "metadata": {},
   "source": [
    "# End of week 1 exercise\n",
    "\n",
    "To demonstrate your familiarity with OpenAI API, and also Ollama, build a tool that takes a technical question,  \n",
    "and responds with an explanation. This is a tool that you will be able to use yourself during the course!"
   ]
  },
  {
   "cell_type": "code",
   "execution_count": 2,
   "id": "c1070317-3ed9-4659-abe3-828943230e03",
   "metadata": {},
   "outputs": [],
   "source": [
    "# imports\n",
    "from dotenv import load_dotenv\n",
    "import os\n",
    "from openai import OpenAI\n",
    "from IPython.display import Markdown, display, update_display"
   ]
  },
  {
   "cell_type": "code",
   "execution_count": 11,
   "id": "4a456906-915a-4bfd-bb9d-57e505c5093f",
   "metadata": {},
   "outputs": [
    {
     "name": "stdout",
     "output_type": "stream",
     "text": [
      "API key looks good so far\n"
     ]
    }
   ],
   "source": [
    "# constants\n",
    "load_dotenv(override=True)\n",
    "api_key = os.getenv('OPENAI_API_KEY')\n",
    "if api_key and api_key.startswith('sk-proj-') and len(api_key)>10:\n",
    "    print(\"API key looks good so far\")\n",
    "else:\n",
    "    print(\"There might be a problem with your API key? Please visit the troubleshooting notebook!\")\n",
    "MODEL_GPT = 'gpt-4o-mini'\n",
    "MODEL_LLAMA = 'llama3.2'\n",
    "\n",
    "OLLAMA_API = \"http://localhost:11434/api/chat\"\n",
    "HEADERS = {\"Content-Type\": \"application/json\"}\n",
    "LOCAL_MODEL = \"llama3.2\""
   ]
  },
  {
   "cell_type": "code",
   "execution_count": 16,
   "id": "a8d7923c-5f28-4c30-8556-342d7c8497c1",
   "metadata": {},
   "outputs": [],
   "source": [
    "# set up environment\n",
    "openai = OpenAI()\n",
    "ollama_via_openai = OpenAI(base_url='http://localhost:11434/v1', api_key='ollama')\n",
    "system_prompt = \"You are an assistant that will receive technical questions from students and provide aid using the tone of a teacher.\\\n",
    "                    Respond in Markdown.\""
   ]
  },
  {
   "cell_type": "code",
   "execution_count": 25,
   "id": "47f531a0-30ad-40bc-a42e-e099375c4a7e",
   "metadata": {},
   "outputs": [],
   "source": [
    "def call_openai_model_respond_markdown(user_prompt, model=MODEL_GPT, stream=True, use_local_model=False):\n",
    "    messages = [\n",
    "                {\n",
    "                    \"role\": \"system\",\n",
    "                    \"content\": system_prompt\n",
    "                },\n",
    "                {\n",
    "                    \"role\": \"user\",\n",
    "                    \"content\": user_prompt\n",
    "                }\n",
    "            ]\n",
    "    if use_local_model:\n",
    "        response = ollama_via_openai.chat.completions.create(\n",
    "            model=LOCAL_MODEL,\n",
    "            messages=messages\n",
    "        )\n",
    "    else:\n",
    "        stream = openai.chat.completions.create(\n",
    "            model=model,\n",
    "            messages = messages,\n",
    "            stream=stream\n",
    "        )\n",
    "    if stream:\n",
    "        response = \"\"\n",
    "        display_handle = display(Markdown(\"\"), display_id=True)\n",
    "        for chunk in stream:\n",
    "            response += chunk.choices[0].delta.content or ''\n",
    "            response = response.replace(\"```\",\"\").replace(\"markdown\", \"\")\n",
    "            update_display(Markdown(response), display_id=display_handle.display_id)\n",
    "    else:\n",
    "        display(Markdown(response.choices[0].message.content))\n",
    "    \n",
    "        \n",
    "def provide_technical_feedback(use_local_model=False):\n",
    "    user_input = input(\"What can I help you with? \")\n",
    "    call_openai_model_respond_markdown(user_input, use_local_model=use_local_model, stream=False)\n",
    "    "
   ]
  },
  {
   "cell_type": "code",
   "execution_count": null,
   "id": "3f0d0137-52b0-47a8-81a8-11a90a010798",
   "metadata": {},
   "outputs": [],
   "source": [
    "# here is the question; type over this to ask something new\n",
    "\n",
    "question = \"\"\"\n",
    "Please explain what this code does and why:\n",
    "{yield from {book.get(\"author\") for book in books if book.get(\"author\")}\n",
    "\"\"\""
   ]
  },
  {
   "cell_type": "code",
   "execution_count": 23,
   "id": "60ce7000-a4a5-4cce-a261-e75ef45063b4",
   "metadata": {},
   "outputs": [
    {
     "name": "stdin",
     "output_type": "stream",
     "text": [
      "What can I help you with?  Please explain what this code does and why: {yield from {book.get(\"author\") for book in books if book.get(\"author\")}\n"
     ]
    },
    {
     "data": {
      "text/markdown": [
       "Certainly! Let's break down the code you've provided:\n",
       "\n",
       "python\n",
       "{yield from {book.get(\"author\") for book in books if book.get(\"author\")}\n",
       "\n",
       "\n",
       "This code snippet seems to be a mix of two different Python concepts: **set comprehensions** and **generator delegation** using the `yield from` statement. \n",
       "\n",
       "### Components of the Code:\n",
       "\n",
       "1. **Set Comprehension**:\n",
       "    - `{book.get(\"author\") for book in books if book.get(\"author\")}` is a set comprehension.\n",
       "    - It iterates over each `book` in the iterable `books`.\n",
       "    - `book.get(\"author\")` attempts to retrieve the value mapped to the key `\"author\"` from the `book` dictionary.\n",
       "    - The `if book.get(\"author\")` part checks if the author exists (i.e., it’s not `None` or an empty string).\n",
       "    - The result is a set of unique authors from the `books` list, excluding any missing or empty author fields.\n",
       "\n",
       "2. **yield from**:\n",
       "    - The `yield from` statement is used in generator functions to yield all values from a generator or iterable. It essentially delegates the yield operation to another generator.\n",
       "    - This means that if this code is found within a generator function, it will yield each value from the set of authors created by the comprehension.\n",
       "\n",
       "### Possible Use Case:\n",
       "If this code were part of a larger generator function, the complete function might look something like this:\n",
       "\n",
       "python\n",
       "def get_authors(books):\n",
       "    yield from {book.get(\"author\") for book in books if book.get(\"author\")}\n",
       "\n",
       "\n",
       "Here’s what happens step by step:\n",
       "1. The function `get_authors` takes a list of `books`.\n",
       "2. It extracts all the authors (if they exist) into a set to ensure uniqueness.\n",
       "3. Then it uses `yield from` to yield each author to the caller one by one.\n",
       "\n",
       "### Summary:\n",
       "- This code collects unique authors from a list of books and yields each author when invoked in a generator function.\n",
       "- The primary purpose is to filter out any books without an author and to ensure that duplicate authors are not returned.\n",
       "\n",
       "If you have further questions or need clarification on any part of this explanation, feel free to ask!"
      ],
      "text/plain": [
       "<IPython.core.display.Markdown object>"
      ]
     },
     "metadata": {},
     "output_type": "display_data"
    }
   ],
   "source": [
    "# Get gpt-4o-mini to answer, with streaming\n",
    "provide_technical_feedback()"
   ]
  },
  {
   "cell_type": "code",
   "execution_count": 26,
   "id": "8f7c8ea8-4082-4ad0-8751-3301adcf6538",
   "metadata": {},
   "outputs": [
    {
     "name": "stdin",
     "output_type": "stream",
     "text": [
      "What can I help you with?  Please explain what this code does and why: {yield from {book.get(\"author\") for book in books if book.get(\"author\")}\n"
     ]
    },
    {
     "data": {
      "text/markdown": [
       "**Code Explanation**\n",
       "\n",
       "This is a snippet of Python code that utilizes generators, which are a type of iterable object. Let's break it down:\n",
       "\n",
       "```python\n",
       "{  \n",
       "    yield from {  \n",
       "        \"author\": book.get(\"author\") \n",
       "        for book in books if book.get(\"author\")}  \n",
       "}\n",
       "```\n",
       "\n",
       "Here's what this code does:\n",
       "\n",
       "*   It creates an iterator that yields individual values.\n",
       "*   The inner expression \"{book.get('author') for book in books if book.get('author')}\" is a data structure generator (a dictionary comprehension). This expression generates a new dictionary containing the value of `book` under the key `\"author\"` as long as `book` has an internal property named `\"author\"`.\n",
       "*   The expression uses another iteration, using `yield from`. This means it takes the previous generator (`{...}`) and yields all values that this new generator produces. In essence, it combines the values produced by both generators through iteration.\n",
       "\n",
       "**Why**\n",
       "\n",
       "This code likely exists to extract and process author data associated with a collection of books:\n",
       "*   It's likely being used in conjunction with a larger program (e.g., a web application) where multiple books are retrieved from some source (possibly a database).\n",
       "*   The \"books\" variable is assumed to be a collection or iterable data type containing book objects.\n",
       "*   For each book in the collection, this expression attempts to retrieve and store author information. If successful (i.e., if the book has an `\"author\"` attribute), it includes that information in the results.\n",
       "*   This process could be used to perform various tasks, such as generating summaries or producing reports about authors based on a specific dataset of books.\n",
       "\n",
       "In general, this code can enhance readability and expressiveness when dealing with complex data processing scenarios."
      ],
      "text/plain": [
       "<IPython.core.display.Markdown object>"
      ]
     },
     "metadata": {},
     "output_type": "display_data"
    }
   ],
   "source": [
    "# Get Llama 3.2 to answer\n",
    "provide_technical_feedback(True)"
   ]
  },
  {
   "cell_type": "code",
   "execution_count": null,
   "id": "1835d076-5ad9-4f1c-80ff-745826dc5415",
   "metadata": {},
   "outputs": [],
   "source": []
  }
 ],
 "metadata": {
  "kernelspec": {
   "display_name": "Python 3 (ipykernel)",
   "language": "python",
   "name": "python3"
  },
  "language_info": {
   "codemirror_mode": {
    "name": "ipython",
    "version": 3
   },
   "file_extension": ".py",
   "mimetype": "text/x-python",
   "name": "python",
   "nbconvert_exporter": "python",
   "pygments_lexer": "ipython3",
   "version": "3.11.11"
  }
 },
 "nbformat": 4,
 "nbformat_minor": 5
}
