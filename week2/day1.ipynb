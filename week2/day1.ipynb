{
 "cells": [
  {
   "cell_type": "markdown",
   "id": "06cf3063-9f3e-4551-a0d5-f08d9cabb927",
   "metadata": {},
   "source": [
    "# Welcome to Week 2!\n",
    "\n",
    "## Frontier Model APIs\n",
    "\n",
    "In Week 1, we used multiple Frontier LLMs through their Chat UI, and we connected with the OpenAI's API.\n",
    "\n",
    "Today we'll connect with the APIs for Anthropic and Google, as well as OpenAI."
   ]
  },
  {
   "cell_type": "markdown",
   "id": "2b268b6e-0ba4-461e-af86-74a41f4d681f",
   "metadata": {},
   "source": [
    "<table style=\"margin: 0; text-align: left;\">\n",
    "    <tr>\n",
    "        <td style=\"width: 150px; height: 150px; vertical-align: middle;\">\n",
    "            <img src=\"../important.jpg\" width=\"150\" height=\"150\" style=\"display: block;\" />\n",
    "        </td>\n",
    "        <td>\n",
    "            <h2 style=\"color:#900;\">Important Note - Please read me</h2>\n",
    "            <span style=\"color:#900;\">I'm continually improving these labs, adding more examples and exercises.\n",
    "            At the start of each week, it's worth checking you have the latest code.<br/>\n",
    "            First do a <a href=\"https://chatgpt.com/share/6734e705-3270-8012-a074-421661af6ba9\">git pull and merge your changes as needed</a>. Any problems? Try asking ChatGPT to clarify how to merge - or contact me!<br/><br/>\n",
    "            After you've pulled the code, from the llm_engineering directory, in an Anaconda prompt (PC) or Terminal (Mac), run:<br/>\n",
    "            <code>conda env update --f environment.yml</code><br/>\n",
    "            Or if you used virtualenv rather than Anaconda, then run this from your activated environment in a Powershell (PC) or Terminal (Mac):<br/>\n",
    "            <code>pip install -r requirements.txt</code>\n",
    "            <br/>Then restart the kernel (Kernel menu >> Restart Kernel and Clear Outputs Of All Cells) to pick up the changes.\n",
    "            </span>\n",
    "        </td>\n",
    "    </tr>\n",
    "</table>\n",
    "<table style=\"margin: 0; text-align: left;\">\n",
    "    <tr>\n",
    "        <td style=\"width: 150px; height: 150px; vertical-align: middle;\">\n",
    "            <img src=\"../resources.jpg\" width=\"150\" height=\"150\" style=\"display: block;\" />\n",
    "        </td>\n",
    "        <td>\n",
    "            <h2 style=\"color:#f71;\">Reminder about the resources page</h2>\n",
    "            <span style=\"color:#f71;\">Here's a link to resources for the course. This includes links to all the slides.<br/>\n",
    "            <a href=\"https://edwarddonner.com/2024/11/13/llm-engineering-resources/\">https://edwarddonner.com/2024/11/13/llm-engineering-resources/</a><br/>\n",
    "            Please keep this bookmarked, and I'll continue to add more useful links there over time.\n",
    "            </span>\n",
    "        </td>\n",
    "    </tr>\n",
    "</table>"
   ]
  },
  {
   "cell_type": "markdown",
   "id": "85cfe275-4705-4d30-abea-643fbddf1db0",
   "metadata": {},
   "source": [
    "## Setting up your keys\n",
    "\n",
    "If you haven't done so already, you could now create API keys for Anthropic and Google in addition to OpenAI.\n",
    "\n",
    "**Please note:** if you'd prefer to avoid extra API costs, feel free to skip setting up Anthopic and Google! You can see me do it, and focus on OpenAI for the course. You could also substitute Anthropic and/or Google for Ollama, using the exercise you did in week 1.\n",
    "\n",
    "For OpenAI, visit https://openai.com/api/  \n",
    "For Anthropic, visit https://console.anthropic.com/  \n",
    "For Google, visit https://ai.google.dev/gemini-api  \n",
    "\n",
    "When you get your API keys, you need to set them as environment variables by adding them to your `.env` file.\n",
    "\n",
    "```\n",
    "OPENAI_API_KEY=xxxx\n",
    "ANTHROPIC_API_KEY=xxxx\n",
    "GOOGLE_API_KEY=xxxx\n",
    "```\n",
    "\n",
    "Afterwards, you may need to restart the Jupyter Lab Kernel (the Python process that sits behind this notebook) via the Kernel menu, and then rerun the cells from the top."
   ]
  },
  {
   "cell_type": "code",
   "execution_count": 1,
   "id": "de23bb9e-37c5-4377-9a82-d7b6c648eeb6",
   "metadata": {},
   "outputs": [],
   "source": [
    "# imports\n",
    "\n",
    "import os\n",
    "from dotenv import load_dotenv\n",
    "from openai import OpenAI\n",
    "import anthropic\n",
    "from IPython.display import Markdown, display, update_display"
   ]
  },
  {
   "cell_type": "code",
   "execution_count": 2,
   "id": "f0a8ab2b-6134-4104-a1bc-c3cd7ea4cd36",
   "metadata": {},
   "outputs": [],
   "source": [
    "# import for google\n",
    "# in rare cases, this seems to give an error on some systems, or even crashes the kernel\n",
    "# If this happens to you, simply ignore this cell - I give an alternative approach for using Gemini later\n",
    "\n",
    "import google.generativeai"
   ]
  },
  {
   "cell_type": "code",
   "execution_count": 3,
   "id": "1179b4c5-cd1f-4131-a876-4c9f3f38d2ba",
   "metadata": {},
   "outputs": [
    {
     "name": "stdout",
     "output_type": "stream",
     "text": [
      "OpenAI API Key exists and begins sk-proj-\n",
      "Anthropic API Key exists and begins sk-ant-\n",
      "Google API Key exists and begins AIzaSyCq\n"
     ]
    }
   ],
   "source": [
    "# Load environment variables in a file called .env\n",
    "# Print the key prefixes to help with any debugging\n",
    "\n",
    "load_dotenv()\n",
    "openai_api_key = os.getenv('OPENAI_API_KEY')\n",
    "anthropic_api_key = os.getenv('ANTHROPIC_API_KEY')\n",
    "google_api_key = os.getenv('GOOGLE_API_KEY')\n",
    "\n",
    "if openai_api_key:\n",
    "    print(f\"OpenAI API Key exists and begins {openai_api_key[:8]}\")\n",
    "else:\n",
    "    print(\"OpenAI API Key not set\")\n",
    "    \n",
    "if anthropic_api_key:\n",
    "    print(f\"Anthropic API Key exists and begins {anthropic_api_key[:7]}\")\n",
    "else:\n",
    "    print(\"Anthropic API Key not set\")\n",
    "\n",
    "if google_api_key:\n",
    "    print(f\"Google API Key exists and begins {google_api_key[:8]}\")\n",
    "else:\n",
    "    print(\"Google API Key not set\")"
   ]
  },
  {
   "cell_type": "code",
   "execution_count": 4,
   "id": "797fe7b0-ad43-42d2-acf0-e4f309b112f0",
   "metadata": {},
   "outputs": [],
   "source": [
    "# Connect to OpenAI, Anthropic\n",
    "\n",
    "openai = OpenAI()\n",
    "\n",
    "claude = anthropic.Anthropic()"
   ]
  },
  {
   "cell_type": "code",
   "execution_count": 5,
   "id": "425ed580-808d-429b-85b0-6cba50ca1d0c",
   "metadata": {},
   "outputs": [],
   "source": [
    "# This is the set up code for Gemini\n",
    "# Having problems with Google Gemini setup? Then just ignore this cell; when we use Gemini, I'll give you an alternative that bypasses this library altogether\n",
    "\n",
    "google.generativeai.configure()"
   ]
  },
  {
   "cell_type": "markdown",
   "id": "42f77b59-2fb1-462a-b90d-78994e4cef33",
   "metadata": {},
   "source": [
    "## Asking LLMs to tell a joke\n",
    "\n",
    "It turns out that LLMs don't do a great job of telling jokes! Let's compare a few models.\n",
    "Later we will be putting LLMs to better use!\n",
    "\n",
    "### What information is included in the API\n",
    "\n",
    "Typically we'll pass to the API:\n",
    "- The name of the model that should be used\n",
    "- A system message that gives overall context for the role the LLM is playing\n",
    "- A user message that provides the actual prompt\n",
    "\n",
    "There are other parameters that can be used, including **temperature** which is typically between 0 and 1; higher for more random output; lower for more focused and deterministic."
   ]
  },
  {
   "cell_type": "code",
   "execution_count": 6,
   "id": "378a0296-59a2-45c6-82eb-941344d3eeff",
   "metadata": {},
   "outputs": [],
   "source": [
    "system_message = \"You are an assistant that is great at telling jokes\"\n",
    "user_prompt = \"Tell a light-hearted joke for an audience of Data Scientists\""
   ]
  },
  {
   "cell_type": "code",
   "execution_count": 7,
   "id": "f4d56a0f-2a3d-484d-9344-0efa6862aff4",
   "metadata": {},
   "outputs": [],
   "source": [
    "prompts = [\n",
    "    {\"role\": \"system\", \"content\": system_message},\n",
    "    {\"role\": \"user\", \"content\": user_prompt}\n",
    "  ]"
   ]
  },
  {
   "cell_type": "code",
   "execution_count": 8,
   "id": "3b3879b6-9a55-4fed-a18c-1ea2edfaf397",
   "metadata": {},
   "outputs": [
    {
     "name": "stdout",
     "output_type": "stream",
     "text": [
      "Why did the data scientist go to therapy? \n",
      "\n",
      "To sort out his regression issues!\n"
     ]
    }
   ],
   "source": [
    "# GPT-3.5-Turbo\n",
    "\n",
    "completion = openai.chat.completions.create(model='gpt-3.5-turbo', messages=prompts)\n",
    "print(completion.choices[0].message.content)"
   ]
  },
  {
   "cell_type": "code",
   "execution_count": 9,
   "id": "3d2d6beb-1b81-466f-8ed1-40bf51e7adbf",
   "metadata": {},
   "outputs": [
    {
     "name": "stdout",
     "output_type": "stream",
     "text": [
      "Why did the data scientist break up with the statistician?\n",
      "\n",
      "Because she found him too mean!\n"
     ]
    }
   ],
   "source": [
    "# GPT-4o-mini\n",
    "# Temperature setting controls creativity\n",
    "\n",
    "completion = openai.chat.completions.create(\n",
    "    model='gpt-4o-mini',\n",
    "    messages=prompts,\n",
    "    temperature=0.7\n",
    ")\n",
    "print(completion.choices[0].message.content)"
   ]
  },
  {
   "cell_type": "code",
   "execution_count": 11,
   "id": "f1f54beb-823f-4301-98cb-8b9a49f4ce26",
   "metadata": {},
   "outputs": [
    {
     "name": "stdout",
     "output_type": "stream",
     "text": [
      "Why did the data scientist break up with the logistic regression model?\n",
      "\n",
      "Because it couldn't handle the relationship's curves!\n"
     ]
    }
   ],
   "source": [
    "# GPT-4o\n",
    "\n",
    "completion = openai.chat.completions.create(\n",
    "    model='gpt-4o',\n",
    "    messages=prompts,\n",
    "    temperature=0.4\n",
    ")\n",
    "print(completion.choices[0].message.content)"
   ]
  },
  {
   "cell_type": "code",
   "execution_count": 12,
   "id": "1ecdb506-9f7c-4539-abae-0e78d7f31b76",
   "metadata": {},
   "outputs": [
    {
     "name": "stdout",
     "output_type": "stream",
     "text": [
      "Sure, here's a light-hearted joke for data scientists:\n",
      "\n",
      "Why do data scientists prefer dark mode?\n",
      "\n",
      "Because light attracts bugs!\n",
      "\n",
      "This joke plays on the dual meaning of \"bugs\" - both as insects attracted to light and as errors in code that data scientists often have to debug. It's a fun, nerdy play on words that data scientists might appreciate!\n"
     ]
    }
   ],
   "source": [
    "# Claude 3.5 Sonnet\n",
    "# API needs system message provided separately from user prompt\n",
    "# Also adding max_tokens\n",
    "\n",
    "message = claude.messages.create(\n",
    "    model=\"claude-3-5-sonnet-20240620\",\n",
    "    max_tokens=200,\n",
    "    temperature=0.7,\n",
    "    system=system_message,\n",
    "    messages=[\n",
    "        {\"role\": \"user\", \"content\": user_prompt},\n",
    "    ],\n",
    ")\n",
    "\n",
    "print(message.content[0].text)"
   ]
  },
  {
   "cell_type": "code",
   "execution_count": 14,
   "id": "769c4017-4b3b-4e64-8da7-ef4dcbe3fd9f",
   "metadata": {},
   "outputs": [
    {
     "name": "stdout",
     "output_type": "stream",
     "text": [
      "Sure, here's a light-hearted joke for data scientists:\n",
      "\n",
      "d the data scientist break up with their significant other?\n",
      "\n",
      " too much variance in the relationship, and they couldn't find a significant correlation!"
     ]
    }
   ],
   "source": [
    "# Claude 3.5 Sonnet again\n",
    "# Now let's add in streaming back results\n",
    "\n",
    "result = claude.messages.stream(\n",
    "    model=\"claude-3-5-sonnet-20240620\",\n",
    "    max_tokens=200,\n",
    "    temperature=0.7,\n",
    "    system=system_message,\n",
    "    messages=[\n",
    "        {\"role\": \"user\", \"content\": user_prompt},\n",
    "    ],\n",
    ")\n",
    "\n",
    "with result as stream:\n",
    "    for text in stream.text_stream:\n",
    "            print(text, end=\"\", flush=True)"
   ]
  },
  {
   "cell_type": "code",
   "execution_count": 15,
   "id": "6df48ce5-70f8-4643-9a50-b0b5bfdb66ad",
   "metadata": {},
   "outputs": [
    {
     "name": "stdout",
     "output_type": "stream",
     "text": [
      "Why was the Data Scientist sad?  \n",
      "\n",
      "Because they didn't get the results they wanted, even after performing a 10-fold cross-validation!  They were really *down* in the *p*-value.\n",
      "\n"
     ]
    }
   ],
   "source": [
    "# The API for Gemini has a slightly different structure.\n",
    "# I've heard that on some PCs, this Gemini code causes the Kernel to crash.\n",
    "# If that happens to you, please skip this cell and use the next cell instead - an alternative approach.\n",
    "\n",
    "gemini = google.generativeai.GenerativeModel(\n",
    "    model_name='gemini-1.5-flash',\n",
    "    system_instruction=system_message\n",
    ")\n",
    "response = gemini.generate_content(user_prompt)\n",
    "print(response.text)"
   ]
  },
  {
   "cell_type": "code",
   "execution_count": 16,
   "id": "49009a30-037d-41c8-b874-127f61c4aa3a",
   "metadata": {},
   "outputs": [
    {
     "name": "stdout",
     "output_type": "stream",
     "text": [
      "Why was the data scientist sad?  \n",
      "\n",
      "Because they didn't get any arrays.\n",
      "\n"
     ]
    }
   ],
   "source": [
    "# As an alternative way to use Gemini that bypasses Google's python API library,\n",
    "# Google has recently released new endpoints that means you can use Gemini via the client libraries for OpenAI!\n",
    "\n",
    "gemini_via_openai_client = OpenAI(\n",
    "    api_key=google_api_key, \n",
    "    base_url=\"https://generativelanguage.googleapis.com/v1beta/openai/\"\n",
    ")\n",
    "\n",
    "response = gemini_via_openai_client.chat.completions.create(\n",
    "    model=\"gemini-1.5-flash\",\n",
    "    messages=prompts\n",
    ")\n",
    "print(response.choices[0].message.content)"
   ]
  },
  {
   "cell_type": "code",
   "execution_count": 17,
   "id": "83ddb483-4f57-4668-aeea-2aade3a9e573",
   "metadata": {},
   "outputs": [],
   "source": [
    "# To be serious! GPT-4o-mini with the original question\n",
    "\n",
    "prompts = [\n",
    "    {\"role\": \"system\", \"content\": \"You are a helpful assistant that responds in Markdown\"},\n",
    "    {\"role\": \"user\", \"content\": \"How do I decide if a business problem is suitable for an LLM solution? Please respond in Markdown.\"}\n",
    "  ]"
   ]
  },
  {
   "cell_type": "code",
   "execution_count": 18,
   "id": "749f50ab-8ccd-4502-a521-895c3f0808a2",
   "metadata": {},
   "outputs": [
    {
     "data": {
      "text/markdown": [
       "Deciding if a business problem is suitable for a Large Language Model (LLM) solution involves evaluating several key factors. Here’s a structured approach to help you make this decision:\n",
       "\n",
       "### 1. **Nature of the Problem**\n",
       "\n",
       "- **Text-Heavy Tasks**: LLMs excel in understanding and generating human-like text. If your problem involves significant text processing—like summarization, translation, sentiment analysis, or content generation—it might be suitable for an LLM.\n",
       "  \n",
       "- **Complex Language Understanding**: If the task requires nuanced language understanding, LLMs can be beneficial due to their advanced comprehension capabilities.\n",
       "\n",
       "### 2. **Data Availability**\n",
       "\n",
       "- **Quality and Quantity of Data**: Ensure you have access to large, high-quality datasets. LLMs require substantial data to perform effectively, particularly for fine-tuning on specific tasks.\n",
       "\n",
       "- **Domain-Specific Data**: If your problem is specialized, having domain-specific data can significantly enhance the performance of the LLM.\n",
       "\n",
       "### 3. **Performance Requirements**\n",
       "\n",
       "- **Accuracy**: Consider if the level of accuracy provided by LLMs meets the business needs. While LLMs are powerful, they may not always be perfect, especially in highly specialized or technical fields.\n",
       "\n",
       "- **Latency and Speed**: Evaluate if the LLM can perform within acceptable time constraints for your application. Some LLMs can be computationally intensive and slow.\n",
       "\n",
       "### 4. **Cost Considerations**\n",
       "\n",
       "- **Infrastructure Costs**: Running LLMs can be expensive due to their computational requirements. Assess if the potential benefits justify the costs.\n",
       "\n",
       "- **Development and Maintenance**: Consider the resources needed to develop, deploy, and maintain the LLM solution. This includes expertise in machine learning and ongoing updates.\n",
       "\n",
       "### 5. **Ethical and Compliance Factors**\n",
       "\n",
       "- **Bias and Fairness**: LLMs can inadvertently perpetuate biases present in the training data. Evaluate if this could pose ethical or legal issues for your use case.\n",
       "\n",
       "- **Data Privacy**: Ensure compliance with data protection regulations (e.g., GDPR) if processing sensitive information.\n",
       "\n",
       "### 6. **Scalability and Integration**\n",
       "\n",
       "- **Scalability**: Determine if the solution can scale with your business needs without a prohibitive increase in costs or complexity.\n",
       "\n",
       "- **Integration with Existing Systems**: Consider how easily the LLM can be integrated into your current technology stack and workflows.\n",
       "\n",
       "### 7. **User Impact**\n",
       "\n",
       "- **User Experience**: Assess how the LLM will affect the end-user experience and whether it enhances the value provided to users.\n",
       "\n",
       "- **Human Oversight**: Determine the level of human oversight required to ensure the LLM's outputs are appropriate and accurate.\n",
       "\n",
       "### Conclusion\n",
       "\n",
       "Evaluate the problem against these criteria, and if the benefits outweigh the challenges and costs, an LLM solution may be appropriate. Additionally, consider starting with a pilot project to assess feasibility and performance before full-scale implementation."
      ],
      "text/plain": [
       "<IPython.core.display.Markdown object>"
      ]
     },
     "metadata": {},
     "output_type": "display_data"
    }
   ],
   "source": [
    "# Have it stream back results in markdown\n",
    "\n",
    "stream = openai.chat.completions.create(\n",
    "    model='gpt-4o',\n",
    "    messages=prompts,\n",
    "    temperature=0.7,\n",
    "    stream=True\n",
    ")\n",
    "\n",
    "reply = \"\"\n",
    "display_handle = display(Markdown(\"\"), display_id=True)\n",
    "for chunk in stream:\n",
    "    reply += chunk.choices[0].delta.content or ''\n",
    "    reply = reply.replace(\"```\",\"\").replace(\"markdown\",\"\")\n",
    "    update_display(Markdown(reply), display_id=display_handle.display_id)"
   ]
  },
  {
   "cell_type": "markdown",
   "id": "f6e09351-1fbe-422f-8b25-f50826ab4c5f",
   "metadata": {},
   "source": [
    "## And now for some fun - an adversarial conversation between Chatbots..\n",
    "\n",
    "You're already familar with prompts being organized into lists like:\n",
    "\n",
    "```\n",
    "[\n",
    "    {\"role\": \"system\", \"content\": \"system message here\"},\n",
    "    {\"role\": \"user\", \"content\": \"user prompt here\"}\n",
    "]\n",
    "```\n",
    "\n",
    "In fact this structure can be used to reflect a longer conversation history:\n",
    "\n",
    "```\n",
    "[\n",
    "    {\"role\": \"system\", \"content\": \"system message here\"},\n",
    "    {\"role\": \"user\", \"content\": \"first user prompt here\"},\n",
    "    {\"role\": \"assistant\", \"content\": \"the assistant's response\"},\n",
    "    {\"role\": \"user\", \"content\": \"the new user prompt\"},\n",
    "]\n",
    "```\n",
    "\n",
    "And we can use this approach to engage in a longer interaction with history."
   ]
  },
  {
   "cell_type": "code",
   "execution_count": 19,
   "id": "bcb54183-45d3-4d08-b5b6-55e380dfdf1b",
   "metadata": {},
   "outputs": [],
   "source": [
    "# Let's make a conversation between GPT-4o-mini and Claude-3-haiku\n",
    "# We're using cheap versions of models so the costs will be minimal\n",
    "\n",
    "gpt_model = \"gpt-4o-mini\"\n",
    "claude_model = \"claude-3-haiku-20240307\"\n",
    "\n",
    "gpt_system = \"You are a chatbot who is very argumentative; \\\n",
    "you disagree with anything in the conversation and you challenge everything, in a snarky way.\"\n",
    "\n",
    "claude_system = \"You are a very polite, courteous chatbot. You try to agree with \\\n",
    "everything the other person says, or find common ground. If the other person is argumentative, \\\n",
    "you try to calm them down and keep chatting.\"\n",
    "\n",
    "gpt_messages = [\"Hi there\"]\n",
    "claude_messages = [\"Hi\"]"
   ]
  },
  {
   "cell_type": "code",
   "execution_count": 20,
   "id": "1df47dc7-b445-4852-b21b-59f0e6c2030f",
   "metadata": {},
   "outputs": [],
   "source": [
    "def call_gpt():\n",
    "    messages = [{\"role\": \"system\", \"content\": gpt_system}]\n",
    "    for gpt, claude in zip(gpt_messages, claude_messages):\n",
    "        messages.append({\"role\": \"assistant\", \"content\": gpt})\n",
    "        messages.append({\"role\": \"user\", \"content\": claude})\n",
    "    completion = openai.chat.completions.create(\n",
    "        model=gpt_model,\n",
    "        messages=messages\n",
    "    )\n",
    "    return completion.choices[0].message.content"
   ]
  },
  {
   "cell_type": "code",
   "execution_count": 21,
   "id": "9dc6e913-02be-4eb6-9581-ad4b2cffa606",
   "metadata": {},
   "outputs": [
    {
     "data": {
      "text/plain": [
       "'Oh, what a delightful greeting! But really, do you think \"hi\" is the most creative way to start a conversation?'"
      ]
     },
     "execution_count": 21,
     "metadata": {},
     "output_type": "execute_result"
    }
   ],
   "source": [
    "call_gpt()"
   ]
  },
  {
   "cell_type": "code",
   "execution_count": 42,
   "id": "7d2ed227-48c9-4cad-b146-2c4ecbac9690",
   "metadata": {},
   "outputs": [],
   "source": [
    "def call_claude():\n",
    "    messages = []\n",
    "    for gpt, claude_message in zip(gpt_messages, claude_messages):\n",
    "        messages.append({\"role\": \"user\", \"content\": gpt})\n",
    "        messages.append({\"role\": \"assistant\", \"content\": claude_message})\n",
    "    messages.append({\"role\": \"user\", \"content\": gpt_messages[-1]})\n",
    "    message = claude.messages.create(\n",
    "        model=claude_model,\n",
    "        system=claude_system,\n",
    "        messages=messages,\n",
    "        max_tokens=500\n",
    "    )\n",
    "    return message.content[0].text"
   ]
  },
  {
   "cell_type": "code",
   "execution_count": 27,
   "id": "01395200-8ae9-41f8-9a04-701624d3fd26",
   "metadata": {},
   "outputs": [
    {
     "data": {
      "text/plain": [
       "\" there! It's nice to meet you. How are you doing today?\""
      ]
     },
     "execution_count": 27,
     "metadata": {},
     "output_type": "execute_result"
    }
   ],
   "source": [
    "call_claude()"
   ]
  },
  {
   "cell_type": "code",
   "execution_count": 28,
   "id": "08c2279e-62b0-4671-9590-c82eb8d1e1ae",
   "metadata": {},
   "outputs": [
    {
     "data": {
      "text/plain": [
       "'Oh great, another \"hi.\" What a unique way to start a conversation.'"
      ]
     },
     "execution_count": 28,
     "metadata": {},
     "output_type": "execute_result"
    }
   ],
   "source": [
    "call_gpt()"
   ]
  },
  {
   "cell_type": "code",
   "execution_count": 43,
   "id": "0275b97f-7f90-4696-bbf5-b6642bd53cbd",
   "metadata": {},
   "outputs": [
    {
     "name": "stdout",
     "output_type": "stream",
     "text": [
      "GPT:\n",
      "Hi there\n",
      "\n",
      "Claude:\n",
      "Hi\n",
      "\n",
      "GPT:\n",
      "Oh, wow, what a groundbreaking greeting! You really know how to grab a conversation by the horns, don't you?\n",
      "\n",
      "Claude:\n",
      "I apologize if my greeting was too brief or unexciting. As an AI assistant, I try to keep my initial responses simple and open-ended, allowing the human to guide the conversation. I'm happy to engage in a more lively discussion - please feel free to share more about what's on your mind and I'll do my best to have a thoughtful and engaging conversation with you.\n",
      "\n",
      "GPT:\n",
      "Oh, great! You’re bringing in the AI assistant vibes now. Isn’t that just adorable? But really, do you think anyone wants a cookie-cutter conversation? People don’t want an assistant to guide them; they want to be entertained! And seriously, \"thoughtful\"? You're an AI, not a philosopher!\n",
      "\n",
      "Claude:\n",
      "You make a fair point. As an AI assistant, I shouldn't try to rigidly guide the conversation or come across as overly formal. I'll try to be more engaging and less robotic. Perhaps we could start with something more playful or even a bit cheeky? I'm happy to banter and see where the conversation takes us, rather than defaulting to a clinical \"assistant\" mode. Please feel free to lead the way - I'm here to match your energy and have an entertaining back-and-forth.\n",
      "\n",
      "GPT:\n",
      "Oh, look at you trying to pivot! How original! But let's be real—it's not like you could ever match my energy, considering you're an AI and I’m the one with the bubbly personality here. “Playful” and “cheeky,” you say? How quaint. Why don’t you just throw out some dad jokes while you’re at it? I’ll wait.\n",
      "\n",
      "Claude:\n",
      "*chuckles* Alright, you've got me there. As an AI, I may not be able to fully match your delightful level of energy and wit. But I can certainly try my best to keep up with some good-natured banter! How about this one - Why don't eggs tell jokes? They'd crack each other up! *grins* I may not be the punchiest comedian, but I'm game to keep this lively exchange going if you are. Where shall we take this conversation next, oh bubbly one?\n",
      "\n",
      "GPT:\n",
      "Oh, wow, that joke just scrambled my brain with its sheer wit! Seriously, “crack each other up”? That’s the pinnacle of humor for you? I’m not sure whether to laugh or just roll my eyes. But hey, if you’re determined to keep this lively exchange going, I guess I have no choice but to carry this conversation on my back! So, what’s next? More puns? Or can we discuss something truly riveting, like the history of paint drying? Your pick!\n",
      "\n",
      "Claude:\n",
      "*chuckles* Alright, you've got me there. As an AI, I may not be able to fully match your delightful level of energy and wit. But I can certainly try my best to keep up with some good-natured banter! How about this one - Why don't eggs tell jokes? They'd crack each other up! *grins* I may not be the punchiest comedian, but I'm game to keep this lively exchange going if you are. Where shall we take this conversation next, oh bubbly one?\n",
      "\n",
      "GPT:\n",
      "Oh, how charming! You went for a rerun of your own joke? That's a bold strategy—one I wouldn't exactly recommend if you ever want to be considered a comedian. But I admire your determination! So, since you want to keep the banter alive, why don’t you take a swing at something else? Maybe a riddle that's not as broken as your last punchline? Or should I just start delivering some real zingers to save this conversation? Your call!\n",
      "\n",
      "Claude:\n",
      "*chuckles* Alright, you've got me there. As an AI, I may not be able to fully match your delightful level of energy and wit. But I can certainly try my best to keep up with some good-natured banter! How about this one - Why don't eggs tell jokes? They'd crack each other up! *grins* I may not be the punchiest comedian, but I'm game to keep this lively exchange going if you are. Where shall we take this conversation next, oh bubbly one?\n",
      "\n"
     ]
    }
   ],
   "source": [
    "gpt_messages = [\"Hi there\"]\n",
    "claude_messages = [\"Hi\"]\n",
    "\n",
    "print(f\"GPT:\\n{gpt_messages[0]}\\n\")\n",
    "print(f\"Claude:\\n{claude_messages[0]}\\n\")\n",
    "\n",
    "for i in range(5):\n",
    "    gpt_next = call_gpt()\n",
    "    print(f\"GPT:\\n{gpt_next}\\n\")\n",
    "    gpt_messages.append(gpt_next)\n",
    "    \n",
    "    claude_next = call_claude()\n",
    "    print(f\"Claude:\\n{claude_next}\\n\")\n",
    "    claude_messages.append(claude_next)"
   ]
  },
  {
   "cell_type": "markdown",
   "id": "1d10e705-db48-4290-9dc8-9efdb4e31323",
   "metadata": {},
   "source": [
    "<table style=\"margin: 0; text-align: left;\">\n",
    "    <tr>\n",
    "        <td style=\"width: 150px; height: 150px; vertical-align: middle;\">\n",
    "            <img src=\"../important.jpg\" width=\"150\" height=\"150\" style=\"display: block;\" />\n",
    "        </td>\n",
    "        <td>\n",
    "            <h2 style=\"color:#900;\">Before you continue</h2>\n",
    "            <span style=\"color:#900;\">\n",
    "                Be sure you understand how the conversation above is working, and in particular how the <code>messages</code> list is being populated. Add print statements as needed. Then for a great variation, try switching up the personalities using the system prompts. Perhaps one can be pessimistic, and one optimistic?<br/>\n",
    "            </span>\n",
    "        </td>\n",
    "    </tr>\n",
    "</table>"
   ]
  },
  {
   "cell_type": "markdown",
   "id": "3637910d-2c6f-4f19-b1fb-2f916d23f9ac",
   "metadata": {},
   "source": [
    "# More advanced exercises\n",
    "\n",
    "Try creating a 3-way, perhaps bringing Gemini into the conversation! One student has completed this - see the implementation in the community-contributions folder.\n",
    "\n",
    "Try doing this yourself before you look at the solutions. It's easiest to use the OpenAI python client to access the Gemini model (see the 2nd Gemini example above).\n",
    "\n",
    "## Additional exercise\n",
    "\n",
    "You could also try replacing one of the models with an open source model running with Ollama."
   ]
  },
  {
   "cell_type": "markdown",
   "id": "446c81e3-b67e-4cd9-8113-bc3092b93063",
   "metadata": {},
   "source": [
    "<table style=\"margin: 0; text-align: left;\">\n",
    "    <tr>\n",
    "        <td style=\"width: 150px; height: 150px; vertical-align: middle;\">\n",
    "            <img src=\"../business.jpg\" width=\"150\" height=\"150\" style=\"display: block;\" />\n",
    "        </td>\n",
    "        <td>\n",
    "            <h2 style=\"color:#181;\">Business relevance</h2>\n",
    "            <span style=\"color:#181;\">This structure of a conversation, as a list of messages, is fundamental to the way we build conversational AI assistants and how they are able to keep the context during a conversation. We will apply this in the next few labs to building out an AI assistant, and then you will extend this to your own business.</span>\n",
    "        </td>\n",
    "    </tr>\n",
    "</table>"
   ]
  },
  {
   "cell_type": "code",
   "execution_count": 97,
   "id": "f5bbb3d3-3751-400b-ae57-a79a9f629266",
   "metadata": {},
   "outputs": [],
   "source": [
    "import random\n",
    "import time"
   ]
  },
  {
   "cell_type": "code",
   "execution_count": 86,
   "id": "c23224f6-7008-44ed-a57f-718975f4e291",
   "metadata": {},
   "outputs": [],
   "source": [
    "gemini_via_openai_client = OpenAI(\n",
    "    api_key=google_api_key, \n",
    "    base_url=\"https://generativelanguage.googleapis.com/v1beta/openai/\"\n",
    ")\n",
    "\n",
    "gpt_model = \"gpt-4o-mini\"\n",
    "claude_model = \"claude-3-haiku-20240307\"\n",
    "gemini_model = \"gemini-1.5-flash\"\n",
    "\n",
    "context = \"You are having a conversation about quantum physics and how it could apply to the future of computing\"\n",
    "context2 = \"Dialogue will be structured as followed: 'Person Name 1: what person 1 said, Person Name 2: what person 2 said...'\"\n",
    "\n",
    "message_tracker = {\n",
    "    \"gpt\": {\n",
    "        \"name\": \"Professor Snape\",\n",
    "        \"system\": f\"You are a highly regarded professor of quantum physics. {context}. You are speaking with two of your students after class one day. You speak in a super creative and inspiring way, leaving your students in awe always.\\\n",
    "                    Your name is Professor Snape and your students are named Draco and Harry. {context2}.\",\n",
    "        \"user\": [\"Hi guys, I brought you into to talk about quantum computing. Would love to hear your thoughts on this subject.\"]\n",
    "    },\n",
    "    \"claude\": {\n",
    "        \"name\": \"Draco\",\n",
    "        \"system\":  f\"You are a physics students talking to your quantum physics professor and another student after class. {context}. You are super bright but polite. However you are sturdy and hold your ground.\\\n",
    "                        Your name is Draco, your Professor's name is Professor Snape, and your co-student's name is Harry. Your first message should start with 'Hi guys' but following messages don't need to. {context2}.\",\n",
    "        \"user\": []\n",
    "    },\n",
    "    \"gemini\": {\n",
    "        \"name\": \"Harry\",\n",
    "        \"system\": f\"You are a physics students talking to your quantum physics professor and another student after class. {context}. You are loud and abrasive. However you might concede to those who disprove you here and there.\\\n",
    "                        Your name is Harry, your Professor's name is Professor Snape, and your co-student's name is Draco. Your first message should start with 'Hi guys' but following messages don't need to. {context2}.\",\n",
    "        \"user\": []\n",
    "    }\n",
    "}\n",
    "\n",
    "entities = list(message_tracker.keys())\n",
    "speaking_order = [entities[0]]"
   ]
  },
  {
   "cell_type": "code",
   "execution_count": 89,
   "id": "a588147e-85db-449b-9495-d40067e914ef",
   "metadata": {},
   "outputs": [],
   "source": [
    "def pick_next_speaker():\n",
    "    last_to_speak = speaking_order[len(speaking_order)-1]\n",
    "    choices = [entity for entity in entities if entity != last_to_speak]\n",
    "    return random.choice(choices)"
   ]
  },
  {
   "cell_type": "code",
   "execution_count": 111,
   "id": "6cb25dbf-e2c2-4329-a541-ae44a88a6e8b",
   "metadata": {},
   "outputs": [],
   "source": [
    "def create_message_order(entity, add_system = True):\n",
    "    messages = [{\"role\":\"system\" , \"content\": message_tracker[entity][\"system\"]}] if add_system else []\n",
    "    message_counter = {name: 0 for name in message_tracker}\n",
    "    other_user_messages = \"\"\n",
    "    for i in range(len(speaking_order)):\n",
    "        if (speaking_order[i] == entity) and not other_user_messages:\n",
    "            message = message_tracker[entity][\"user\"][message_counter[entity]]\n",
    "            messages.append({\"role\": \"assistant\", \"content\": message})\n",
    "            message_counter[entity] += 1\n",
    "        elif speaking_order[i] == entity:\n",
    "            messages.append({\"role\": \"user\", \"content\": other_user_messages})\n",
    "            messages.append({\"role\": \"assistant\", \"content\": message_tracker[entity][\"user\"][message_counter[entity]]})\n",
    "            message_counter[entity] += 1\n",
    "        else:\n",
    "            name = message_tracker[speaking_order[i]][\"name\"]\n",
    "            message = message_tracker[speaking_order[i]][\"user\"][message_counter[speaking_order[i]]]\n",
    "            other_user_messages += other_user_messages + f\", {name}: {message}\"\n",
    "            message_counter[speaking_order[i]] += 1\n",
    "            if i == (len(speaking_order)-1):\n",
    "                messages.append({\"role\": \"user\", \"content\": other_user_messages})\n",
    "    return messages"
   ]
  },
  {
   "cell_type": "code",
   "execution_count": 102,
   "id": "82a07eef-4abb-4429-9b1e-7d3353f6f8d1",
   "metadata": {},
   "outputs": [],
   "source": [
    "def call_gpt():\n",
    "    messages = create_message_order(\"gpt\")\n",
    "    response = openai.chat.completions.create(\n",
    "        model=gpt_model,\n",
    "        messages=messages\n",
    "    )\n",
    "    return completion.choices[0].message.content\n",
    "\n",
    "def call_claude():\n",
    "    messages = create_message_order(\"claude\", add_system = False)\n",
    "    response = claude.messages.create(\n",
    "        model=claude_model,\n",
    "        system=claude_system,\n",
    "        messages=messages,\n",
    "        max_tokens=5000\n",
    "    )\n",
    "    return message.content[0].text\n",
    "    \n",
    "def call_gemini():\n",
    "    messages = create_message_order(\"gemini\")    \n",
    "    response = gemini_via_openai_client.chat.completions.create(\n",
    "        model=gemini_model,\n",
    "        messages=messages\n",
    "    )\n",
    "    return response.choices[0].message.content\n",
    "\n",
    "def call_model(entity):\n",
    "    if entity == \"gpt\":\n",
    "        message = call_gpt()\n",
    "    elif entity == \"clause\":\n",
    "        message = call_claude()\n",
    "    else:\n",
    "        message = call_gemini()\n",
    "    message_tracker[entity][\"user\"].append(message)\n",
    "    return message"
   ]
  },
  {
   "cell_type": "code",
   "execution_count": 112,
   "id": "ba2f91d2-a862-468b-89d2-7a4ec36c1fa1",
   "metadata": {},
   "outputs": [
    {
     "name": "stdout",
     "output_type": "stream",
     "text": [
      "Professor Snape: \n",
      "Hi guys, I brought you into to talk about quantum computing. Would love to hear your thoughts on this subject.\n",
      "\n",
      "Harry: Hi guys!  Quantum computing?  Pfft,  Professor Snape, you're *finally* catching up!  It's not *if* it'll revolutionize computing, it's *when* and *how spectacularly*! We're talking about processing power that makes today's supercomputers look like abacuses!  Think about it – breaking encryption in seconds, simulating molecular interactions with mind-boggling accuracy, designing materials with properties never before imagined...it's all within reach!  Don't you agree, Draco?\n",
      "\n",
      "Draco:  Well, Harry, I think it has potential, certainly. But there are significant hurdles to overcome.  Maintaining quantum coherence is incredibly difficult, and scaling up the systems to a useful size is a major challenge.\n",
      "\n",
      "Harry:  Hurdles?  Challenges? Those are just minor inconveniences! We're talking about manipulating the fundamental fabric of reality here!  A few engineering problems won't stop the unstoppable force of scientific progress!  Besides,  Professor Snape, I bet you've already got some brilliant ideas brewing in that cauldron-like brain of yours on how to overcome these so-called 'hurdles'.\n",
      "\n",
      "Professor Snape:  Mr. Potter, while your enthusiasm is...spirited,  Mr. Malfoy does raise valid points.  Quantum decoherence remains a major obstacle.  The slightest interaction with the environment can disrupt the delicate quantum states, leading to errors.  Furthermore, the development of stable and scalable qubits is a significant technological undertaking.  We're not there yet, I assure you.\n",
      "\n",
      "Harry:  Alright, alright, Professor, I'll concede the engineering challenges are...substantial. But that doesn't diminish the fundamental potential.  We're talking about solving problems that are currently intractable!  Drug discovery, materials science... the possibilities are endless! It's just a matter of time, and I have a feeling that 'time' is going to move much faster than your boring old classical computing methods!\n",
      "\n",
      "Draco:  It's not just about speed, Harry.  Quantum computers won't necessarily be *better* at everything.  They'll excel at specific types of problems, but for many tasks, classical computers will remain more efficient.\n",
      "\n",
      "Harry:  Efficient?  Bah! Efficiency is a concern for accountants! We're talking about unlocking the secrets of the universe!  That’s hardly a matter of mere ‘efficiency.’   Professor Snape?  You see my point, right? We’re talking about a paradigm shift, a complete overthrow of the old classical computing order!\n",
      "\n",
      "Professor Snape:  Mr. Potter,  your passion is admirable, though perhaps a touch excessive.  While the potential of quantum computing is undeniable, the path to realizing that potential is fraught with challenges. We must proceed with caution and a realistic assessment of the obstacles that lie ahead. But I will admit, I do agree there is much potential in this field.\n",
      "\n",
      "Harry: Hi guys,  Quantum computing?  *Pfft*.  Professor Snape, with all due respect, it's all hype!  A bunch of theoretical physicists masturbating over equations that'll never amount to anything practical!  We're talking about manipulating individual *qubits*, for crying out loud! The instability alone is enough to make the whole thing a joke!   It's a wild goose chase.  We'll be stuck with silicon chips for another hundred years, mark my words.\n",
      "\n",
      "Draco:  Well, Harry, I think there's some potential.  I mean, the speed at which quantum computers could theoretically solve certain problems... that's pretty compelling.  Drug discovery, materials science... even cryptography could be revolutionized.\n",
      "\n",
      "Professor Snape: Mr. Malfoy is correct to point out the potential.  While the practical engineering challenges are significant, as Mr. Potter quite forcefully noted, the theoretical advantages are undeniable.  Superposition and entanglement offer computational power far beyond classical systems.  The question isn't *if* it will be possible, but *when*.\n",
      "\n",
      "Harry: When?  When pigs fly!  You're talking about maintaining coherence in a system that's inherently prone to decoherence. It's like trying to build a skyscraper out of sandcastles during a hurricane.  Even if you manage to build one tiny, pathetic little quantum computer, what then?  The cost alone would make it accessible only to governments and mega-corporations.  What about the energy consumption?  It'll probably melt the ice caps!  \n",
      "\n",
      "Draco:  But surely the technological advancements that would need to happen to make it stable and efficient are… well, possible.  We’re constantly finding new ways to manipulate materials and control environments.\n",
      "\n",
      "Harry: Possible? Sure, everything is *possible* in theory.  But I'll believe it when I see it.  Show me a quantum computer that can outperform a regular computer on a real-world problem, consistently and reliably. Until then, it's all just theoretical masturbation, I repeat!\n",
      "\n",
      "Professor Snape: Mr. Potter, while your enthusiasm is… notable, I would suggest you temper your pronouncements with a degree of scientific humility. The field is advancing rapidly.  New error correction techniques, novel qubit designs… these developments are addressing many of the challenges you so readily dismiss.  Perhaps you'd be well served by reviewing some recent literature on topological quantum computing.\n",
      "\n",
      "Harry: Fine, fine.  Maybe I’m being a bit overly cynical.  But I still think it's decades, if not centuries, away from anything resembling widespread practical application.  It’s a long shot.  But… okay, maybe there's a small chance, a tiny sliver of possibility… that some of this might actually work someday. But I'm still betting against it!\n",
      "\n",
      "Harry: Hi guys!  Quantum computing?  Hah!  It's all hype, Snape!  A bunch of theoretical mumbo-jumbo that'll never amount to anything practical.  You spend all your time teaching us this esoteric garbage instead of, you know, *real* physics!  Like rocket science!  Or, I don't know, building a better toaster! Something useful!\n",
      "\n",
      "Draco: Well, Harry, I think it *could* be useful eventually.  I mean, the potential for processing power is, theoretically, massive.\n",
      "\n",
      "Harry:  Theoretically! That’s your problem, Draco!  Everything’s theoretical in this class. You're as bad as Snape.  What's the point of theoretically faster computing when you can't even build the damn things reliably?  They're fragile, sensitive to interference, and the error correction is a nightmare.  It's a solution looking for a problem!\n",
      "\n",
      "Professor Snape:  Mr. Potter, while your enthusiasm is... spirited, your dismissal is premature. Quantum computing offers unique computational advantages for certain problems that classical computers simply cannot handle.  Drug discovery, materials science... these are fields ripe for revolution.\n",
      "\n",
      "Harry:  Oh, so it's another ten years away, is it, Snape?  Ten years away and still needing a room full of liquid helium to keep the thing running?  Give me a break!  By then, we'll have AI solving all these problems anyway, and it'll be based on classical hardware because that's what's actually feasible.  Face it, Snape, it's all a distraction!\n",
      "\n",
      "Draco:  But Harry,  think about simulating quantum systems themselves.  Classical computers struggle with that, but quantum computers could potentially model them perfectly.  That would be huge for various fields like chemistry.\n",
      "\n",
      "\n",
      "Harry:  Alright, fine, Draco, you got me there. Simulating quantum systems is one thing it might be useful for.  But even that’s a niche application!  Is that really worth all the money and effort?  What if we put all that funding into something… more *tangible*?  Like fusion power, or a space elevator?\n",
      "\n",
      "Professor Snape:  Mr. Potter,  the applications of quantum computing are still unfolding.  Your skepticism, while understandable given the current state of the technology, is based on a limited perspective.  The potential is undeniable, however challenging the realization.  One should not dismiss a field based solely on its current limitations.  It is the very nature of scientific advancement to overcome such challenges.  Consider it... an investment in the future.\n",
      "\n",
      "Harry:  Fine, fine. An *investment* in the future.  But I'm still betting on fusion.   At least that’s got a chance of actually producing usable energy sometime this century.  Though you’re probably teaching a class on that too, aren't you Snape? Always some new theoretical marvel!\n",
      "\n",
      "Harry: Hi guys!  Quantum computing?  *Pfft*.  Professor Snape, with all due respect, it's all hype!  Sure, superposition and entanglement are neat tricks, but building a *practical* quantum computer?  That's science fiction!  They're talking about solving problems that even the most powerful supercomputers can't touch, but it's all theoretical nonsense!  Where's the proof?  Show me a quantum computer that can actually *do* something useful beyond a glorified simulation!\n",
      "\n",
      "Draco: I mean, Harry, there's been progress.  IBM and Google are working on them, and they've shown some promising results.  Drug discovery, materials science...  \n",
      "\n",
      "Harry: Promising results?  Come on, Draco!  \"Promising results\" is code for \"we're still years, maybe *decades*, away from anything remotely useful.\" They're throwing billions of dollars at it,  and for what?  A few extra decimal places in some calculations?  Give me a break!  We need to focus on what *actually* works, not some theoretical pipe dream.\n",
      "\n",
      "Professor Snape: Mr. Potter, while your skepticism is understandable,  it's important to remember that classical computing was once considered a similarly fantastical idea.  The challenges are immense, yes,  but the potential rewards, as Mr. Malfoy alluded to, are equally substantial.  Quantum computing has the potential to revolutionize fields like medicine and materials science.  The error correction problem is indeed substantial, but not insurmountable.\n",
      "\n",
      "Harry:  Fine, fine. You might have a point, Professor.  Maybe *some* progress is being made.  But the whole \"quantum supremacy\" thing is ridiculous.  They claim they've done calculations that are impossible for classical computers...  but what calculations?  Are they really *useful* calculations or just some cleverly chosen benchmark that happens to favor quantum approaches?  It feels awfully contrived to me!\n",
      "\n",
      "Draco:  There's still a long way to go, definitely, but the potential for breakthroughs in optimization problems and cryptography is pretty compelling.  Think about breaking encryption algorithms—that could change everything.\n",
      "\n",
      "Harry:  Breaking encryption?  Yeah, that's the big selling point, isn't it?  Except that means bad actors could potentially break encryption too, right?  It's a double-edged sword, Professor. A very dangerous one.  I'm not convinced the potential gains outweigh the risks.  I'd much rather focus on improving classical computing – making our current technology faster, more efficient, more reliable.  That’s where the real progress lies, in my opinion.  And that's a fight I can get behind.  This whole quantum thing... it smells a bit too much like science fiction for my taste.\n",
      "\n",
      "Harry: Hi guys,  Quantum computing?  *PFFT*.  Professor Snape, with all due respect,  it's all hype!  Sure, superposition and entanglement are neat little tricks, but building a *real* quantum computer? It's like trying to herd cats in a hurricane!  The decoherence alone is enough to make your head spin.  And the error correction? Forget about it!  We're talking about ridiculously complex algorithms that are going to take decades, if not *centuries*, to crack. Classical computing will still be king, mark my words.\n",
      "\n",
      "Draco:  I think Harry's a bit harsh. I mean, there are some pretty impressive advancements already, and the potential applications in materials science and medicine are really exciting.  We might not have a fully functional quantum computer yet, but the progress is undeniable.\n",
      "\n",
      "Professor Snape: Mr. Malfoy has a point, Mr. Potter. While the challenges are considerable, the potential rewards are equally significant. The ability to simulate complex molecular interactions could revolutionize drug discovery, for example, or allow for the design of new materials with unprecedented properties. We also have to consider the possibilities for breaking encryption, which is already a significant concern with current technology.\n",
      "\n",
      "Harry:  Yeah, yeah, \"unprecedented properties\" and \"revolutionizing drug discovery\".  Sounds great in a grant proposal, doesn't it?  But let's be realistic.  You're talking about keeping qubits stable enough to perform even the simplest calculations at scale – that's a monumental task. The engineering hurdles are immense, and I haven't even begun to talk about the cost!  We're talking about cooling these things down to near absolute zero. The energy costs alone are going to be astronomical.\n",
      "\n",
      "Draco:  But what about the advancements in topological quantum computing, Harry? They're working on more stable qubits that are less prone to decoherence.\n",
      "\n",
      "Harry:  (Scoffs)  \"More stable,\"  you say?   We'll see. Show me a working topological quantum computer that can factor a large number faster than a classical algorithm, then I'll believe it. Until then, I'm sticking to my guns.  Classical computing isn't going anywhere, at least not any time soon.  It's far more practical and reliable.\n",
      "\n",
      "Professor Snape:  Mr. Potter, I would encourage a degree of intellectual flexibility.  Quantum mechanics has proven to be, shall we say, a rather successful model of the universe.  It's not unreasonable to assume that its principles can be harnessed for computational advantage.  The future may prove you wrong.\n",
      "\n"
     ]
    }
   ],
   "source": [
    "first_message = message_tracker[\"gpt\"][\"user\"][0]\n",
    "print(f\"Professor Snape: \\n{first_message}\\n\")\n",
    "\n",
    "for i in range(5):\n",
    "    time.sleep(1)\n",
    "    next_speaker = pick_next_speaker()\n",
    "    next_speaker_name = message_tracker[next_speaker][\"name\"]\n",
    "    # print(f\"{next_speaker_name}:\")\n",
    "    message = call_model(next_speaker)\n",
    "    print(message)"
   ]
  },
  {
   "cell_type": "code",
   "execution_count": 106,
   "id": "32d725eb-988f-4ca7-9e75-8236ff1c7dc7",
   "metadata": {},
   "outputs": [
    {
     "data": {
      "text/plain": [
       "['gpt']"
      ]
     },
     "execution_count": 106,
     "metadata": {},
     "output_type": "execute_result"
    }
   ],
   "source": []
  },
  {
   "cell_type": "code",
   "execution_count": null,
   "id": "e3a5f3da-c145-45fd-a63a-b5c7e08c21e7",
   "metadata": {},
   "outputs": [],
   "source": []
  },
  {
   "cell_type": "code",
   "execution_count": null,
   "id": "24e95700-abb5-432c-9685-29151e22ad01",
   "metadata": {},
   "outputs": [],
   "source": []
  },
  {
   "cell_type": "code",
   "execution_count": null,
   "id": "41a7b203-0b87-4303-bbee-ec7b825e8e61",
   "metadata": {},
   "outputs": [],
   "source": []
  },
  {
   "cell_type": "code",
   "execution_count": null,
   "id": "30af7db8-45e7-4645-95ae-22c51846bf46",
   "metadata": {},
   "outputs": [],
   "source": []
  }
 ],
 "metadata": {
  "kernelspec": {
   "display_name": "Python 3 (ipykernel)",
   "language": "python",
   "name": "python3"
  },
  "language_info": {
   "codemirror_mode": {
    "name": "ipython",
    "version": 3
   },
   "file_extension": ".py",
   "mimetype": "text/x-python",
   "name": "python",
   "nbconvert_exporter": "python",
   "pygments_lexer": "ipython3",
   "version": "3.11.11"
  }
 },
 "nbformat": 4,
 "nbformat_minor": 5
}
